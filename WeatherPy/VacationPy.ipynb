{
 "cells": [
  {
   "cell_type": "markdown",
   "metadata": {},
   "source": [
    "# VacationPy\n",
    "---\n",
    "\n",
    "## Starter Code to Import Libraries and Load the Weather and Coordinates Data"
   ]
  },
  {
   "cell_type": "code",
   "execution_count": 1,
   "metadata": {},
   "outputs": [
    {
     "data": {
      "text/html": [
       "<script type=\"esms-options\">{\"shimMode\": true}</script><style>*[data-root-id],\n",
       "*[data-root-id] > * {\n",
       "  box-sizing: border-box;\n",
       "  font-family: var(--jp-ui-font-family);\n",
       "  font-size: var(--jp-ui-font-size1);\n",
       "  color: var(--vscode-editor-foreground, var(--jp-ui-font-color1));\n",
       "}\n",
       "\n",
       "/* Override VSCode background color */\n",
       ".cell-output-ipywidget-background:has(\n",
       "    > .cell-output-ipywidget-background > .lm-Widget > *[data-root-id]\n",
       "  ),\n",
       ".cell-output-ipywidget-background:has(> .lm-Widget > *[data-root-id]) {\n",
       "  background-color: transparent !important;\n",
       "}\n",
       "</style>"
      ]
     },
     "metadata": {},
     "output_type": "display_data"
    },
    {
     "data": {
      "application/javascript": "(function(root) {\n  function now() {\n    return new Date();\n  }\n\n  const force = true;\n  const py_version = '3.6.0'.replace('rc', '-rc.').replace('.dev', '-dev.');\n  const reloading = false;\n  const Bokeh = root.Bokeh;\n\n  // Set a timeout for this load but only if we are not already initializing\n  if (typeof (root._bokeh_timeout) === \"undefined\" || (force || !root._bokeh_is_initializing)) {\n    root._bokeh_timeout = Date.now() + 5000;\n    root._bokeh_failed_load = false;\n  }\n\n  function run_callbacks() {\n    try {\n      root._bokeh_onload_callbacks.forEach(function(callback) {\n        if (callback != null)\n          callback();\n      });\n    } finally {\n      delete root._bokeh_onload_callbacks;\n    }\n    console.debug(\"Bokeh: all callbacks have finished\");\n  }\n\n  function load_libs(css_urls, js_urls, js_modules, js_exports, callback) {\n    if (css_urls == null) css_urls = [];\n    if (js_urls == null) js_urls = [];\n    if (js_modules == null) js_modules = [];\n    if (js_exports == null) js_exports = {};\n\n    root._bokeh_onload_callbacks.push(callback);\n\n    if (root._bokeh_is_loading > 0) {\n      // Don't load bokeh if it is still initializing\n      console.debug(\"Bokeh: BokehJS is being loaded, scheduling callback at\", now());\n      return null;\n    } else if (js_urls.length === 0 && js_modules.length === 0 && Object.keys(js_exports).length === 0) {\n      // There is nothing to load\n      run_callbacks();\n      return null;\n    }\n\n    function on_load() {\n      root._bokeh_is_loading--;\n      if (root._bokeh_is_loading === 0) {\n        console.debug(\"Bokeh: all BokehJS libraries/stylesheets loaded\");\n        run_callbacks()\n      }\n    }\n    window._bokeh_on_load = on_load\n\n    function on_error(e) {\n      const src_el = e.srcElement\n      console.error(\"failed to load \" + (src_el.href || src_el.src));\n    }\n\n    const skip = [];\n    if (window.requirejs) {\n      window.requirejs.config({'packages': {}, 'paths': {}, 'shim': {}});\n      root._bokeh_is_loading = css_urls.length + 0;\n    } else {\n      root._bokeh_is_loading = css_urls.length + js_urls.length + js_modules.length + Object.keys(js_exports).length;\n    }\n\n    const existing_stylesheets = []\n    const links = document.getElementsByTagName('link')\n    for (let i = 0; i < links.length; i++) {\n      const link = links[i]\n      if (link.href != null) {\n        existing_stylesheets.push(link.href)\n      }\n    }\n    for (let i = 0; i < css_urls.length; i++) {\n      const url = css_urls[i];\n      const escaped = encodeURI(url)\n      if (existing_stylesheets.indexOf(escaped) !== -1) {\n        on_load()\n        continue;\n      }\n      const element = document.createElement(\"link\");\n      element.onload = on_load;\n      element.onerror = on_error;\n      element.rel = \"stylesheet\";\n      element.type = \"text/css\";\n      element.href = url;\n      console.debug(\"Bokeh: injecting link tag for BokehJS stylesheet: \", url);\n      document.body.appendChild(element);\n    }    var existing_scripts = []\n    const scripts = document.getElementsByTagName('script')\n    for (let i = 0; i < scripts.length; i++) {\n      var script = scripts[i]\n      if (script.src != null) {\n        existing_scripts.push(script.src)\n      }\n    }\n    for (let i = 0; i < js_urls.length; i++) {\n      const url = js_urls[i];\n      const escaped = encodeURI(url)\n      if (skip.indexOf(escaped) !== -1 || existing_scripts.indexOf(escaped) !== -1) {\n        if (!window.requirejs) {\n          on_load();\n        }\n        continue;\n      }\n      const element = document.createElement('script');\n      element.onload = on_load;\n      element.onerror = on_error;\n      element.async = false;\n      element.src = url;\n      console.debug(\"Bokeh: injecting script tag for BokehJS library: \", url);\n      document.head.appendChild(element);\n    }\n    for (let i = 0; i < js_modules.length; i++) {\n      const url = js_modules[i];\n      const escaped = encodeURI(url)\n      if (skip.indexOf(escaped) !== -1 || existing_scripts.indexOf(escaped) !== -1) {\n        if (!window.requirejs) {\n          on_load();\n        }\n        continue;\n      }\n      var element = document.createElement('script');\n      element.onload = on_load;\n      element.onerror = on_error;\n      element.async = false;\n      element.src = url;\n      element.type = \"module\";\n      console.debug(\"Bokeh: injecting script tag for BokehJS library: \", url);\n      document.head.appendChild(element);\n    }\n    for (const name in js_exports) {\n      const url = js_exports[name];\n      const escaped = encodeURI(url)\n      if (skip.indexOf(escaped) >= 0 || root[name] != null) {\n        if (!window.requirejs) {\n          on_load();\n        }\n        continue;\n      }\n      var element = document.createElement('script');\n      element.onerror = on_error;\n      element.async = false;\n      element.type = \"module\";\n      console.debug(\"Bokeh: injecting script tag for BokehJS library: \", url);\n      element.textContent = `\n      import ${name} from \"${url}\"\n      window.${name} = ${name}\n      window._bokeh_on_load()\n      `\n      document.head.appendChild(element);\n    }\n    if (!js_urls.length && !js_modules.length) {\n      on_load()\n    }\n  };\n\n  function inject_raw_css(css) {\n    const element = document.createElement(\"style\");\n    element.appendChild(document.createTextNode(css));\n    document.body.appendChild(element);\n  }\n\n  const js_urls = [\"https://cdn.holoviz.org/panel/1.5.2/dist/bundled/reactiveesm/es-module-shims@^1.10.0/dist/es-module-shims.min.js\", \"https://cdn.bokeh.org/bokeh/release/bokeh-3.6.0.min.js\", \"https://cdn.bokeh.org/bokeh/release/bokeh-gl-3.6.0.min.js\", \"https://cdn.bokeh.org/bokeh/release/bokeh-widgets-3.6.0.min.js\", \"https://cdn.bokeh.org/bokeh/release/bokeh-tables-3.6.0.min.js\", \"https://cdn.holoviz.org/panel/1.5.2/dist/panel.min.js\"];\n  const js_modules = [];\n  const js_exports = {};\n  const css_urls = [];\n  const inline_js = [    function(Bokeh) {\n      Bokeh.set_log_level(\"info\");\n    },\nfunction(Bokeh) {} // ensure no trailing comma for IE\n  ];\n\n  function run_inline_js() {\n    if ((root.Bokeh !== undefined) || (force === true)) {\n      for (let i = 0; i < inline_js.length; i++) {\n        try {\n          inline_js[i].call(root, root.Bokeh);\n        } catch(e) {\n          if (!reloading) {\n            throw e;\n          }\n        }\n      }\n      // Cache old bokeh versions\n      if (Bokeh != undefined && !reloading) {\n        var NewBokeh = root.Bokeh;\n        if (Bokeh.versions === undefined) {\n          Bokeh.versions = new Map();\n        }\n        if (NewBokeh.version !== Bokeh.version) {\n          Bokeh.versions.set(NewBokeh.version, NewBokeh)\n        }\n        root.Bokeh = Bokeh;\n      }\n    } else if (Date.now() < root._bokeh_timeout) {\n      setTimeout(run_inline_js, 100);\n    } else if (!root._bokeh_failed_load) {\n      console.log(\"Bokeh: BokehJS failed to load within specified timeout.\");\n      root._bokeh_failed_load = true;\n    }\n    root._bokeh_is_initializing = false\n  }\n\n  function load_or_wait() {\n    // Implement a backoff loop that tries to ensure we do not load multiple\n    // versions of Bokeh and its dependencies at the same time.\n    // In recent versions we use the root._bokeh_is_initializing flag\n    // to determine whether there is an ongoing attempt to initialize\n    // bokeh, however for backward compatibility we also try to ensure\n    // that we do not start loading a newer (Panel>=1.0 and Bokeh>3) version\n    // before older versions are fully initialized.\n    if (root._bokeh_is_initializing && Date.now() > root._bokeh_timeout) {\n      // If the timeout and bokeh was not successfully loaded we reset\n      // everything and try loading again\n      root._bokeh_timeout = Date.now() + 5000;\n      root._bokeh_is_initializing = false;\n      root._bokeh_onload_callbacks = undefined;\n      root._bokeh_is_loading = 0\n      console.log(\"Bokeh: BokehJS was loaded multiple times but one version failed to initialize.\");\n      load_or_wait();\n    } else if (root._bokeh_is_initializing || (typeof root._bokeh_is_initializing === \"undefined\" && root._bokeh_onload_callbacks !== undefined)) {\n      setTimeout(load_or_wait, 100);\n    } else {\n      root._bokeh_is_initializing = true\n      root._bokeh_onload_callbacks = []\n      const bokeh_loaded = root.Bokeh != null && (root.Bokeh.version === py_version || (root.Bokeh.versions !== undefined && root.Bokeh.versions.has(py_version)));\n      if (!reloading && !bokeh_loaded) {\n        if (root.Bokeh) {\n          root.Bokeh = undefined;\n        }\n        console.debug(\"Bokeh: BokehJS not loaded, scheduling load and callback at\", now());\n      }\n      load_libs(css_urls, js_urls, js_modules, js_exports, function() {\n        console.debug(\"Bokeh: BokehJS plotting callback run at\", now());\n        run_inline_js();\n      });\n    }\n  }\n  // Give older versions of the autoload script a head-start to ensure\n  // they initialize before we start loading newer version.\n  setTimeout(load_or_wait, 100)\n}(window));",
      "application/vnd.holoviews_load.v0+json": ""
     },
     "metadata": {},
     "output_type": "display_data"
    },
    {
     "data": {
      "application/javascript": "\nif ((window.PyViz === undefined) || (window.PyViz instanceof HTMLElement)) {\n  window.PyViz = {comms: {}, comm_status:{}, kernels:{}, receivers: {}, plot_index: []}\n}\n\n\n    function JupyterCommManager() {\n    }\n\n    JupyterCommManager.prototype.register_target = function(plot_id, comm_id, msg_handler) {\n      if (window.comm_manager || ((window.Jupyter !== undefined) && (Jupyter.notebook.kernel != null))) {\n        var comm_manager = window.comm_manager || Jupyter.notebook.kernel.comm_manager;\n        comm_manager.register_target(comm_id, function(comm) {\n          comm.on_msg(msg_handler);\n        });\n      } else if ((plot_id in window.PyViz.kernels) && (window.PyViz.kernels[plot_id])) {\n        window.PyViz.kernels[plot_id].registerCommTarget(comm_id, function(comm) {\n          comm.onMsg = msg_handler;\n        });\n      } else if (typeof google != 'undefined' && google.colab.kernel != null) {\n        google.colab.kernel.comms.registerTarget(comm_id, (comm) => {\n          var messages = comm.messages[Symbol.asyncIterator]();\n          function processIteratorResult(result) {\n            var message = result.value;\n            console.log(message)\n            var content = {data: message.data, comm_id};\n            var buffers = []\n            for (var buffer of message.buffers || []) {\n              buffers.push(new DataView(buffer))\n            }\n            var metadata = message.metadata || {};\n            var msg = {content, buffers, metadata}\n            msg_handler(msg);\n            return messages.next().then(processIteratorResult);\n          }\n          return messages.next().then(processIteratorResult);\n        })\n      }\n    }\n\n    JupyterCommManager.prototype.get_client_comm = function(plot_id, comm_id, msg_handler) {\n      if (comm_id in window.PyViz.comms) {\n        return window.PyViz.comms[comm_id];\n      } else if (window.comm_manager || ((window.Jupyter !== undefined) && (Jupyter.notebook.kernel != null))) {\n        var comm_manager = window.comm_manager || Jupyter.notebook.kernel.comm_manager;\n        var comm = comm_manager.new_comm(comm_id, {}, {}, {}, comm_id);\n        if (msg_handler) {\n          comm.on_msg(msg_handler);\n        }\n      } else if ((plot_id in window.PyViz.kernels) && (window.PyViz.kernels[plot_id])) {\n        var comm = window.PyViz.kernels[plot_id].connectToComm(comm_id);\n        comm.open();\n        if (msg_handler) {\n          comm.onMsg = msg_handler;\n        }\n      } else if (typeof google != 'undefined' && google.colab.kernel != null) {\n        var comm_promise = google.colab.kernel.comms.open(comm_id)\n        comm_promise.then((comm) => {\n          window.PyViz.comms[comm_id] = comm;\n          if (msg_handler) {\n            var messages = comm.messages[Symbol.asyncIterator]();\n            function processIteratorResult(result) {\n              var message = result.value;\n              var content = {data: message.data};\n              var metadata = message.metadata || {comm_id};\n              var msg = {content, metadata}\n              msg_handler(msg);\n              return messages.next().then(processIteratorResult);\n            }\n            return messages.next().then(processIteratorResult);\n          }\n        }) \n        var sendClosure = (data, metadata, buffers, disposeOnDone) => {\n          return comm_promise.then((comm) => {\n            comm.send(data, metadata, buffers, disposeOnDone);\n          });\n        };\n        var comm = {\n          send: sendClosure\n        };\n      }\n      window.PyViz.comms[comm_id] = comm;\n      return comm;\n    }\n    window.PyViz.comm_manager = new JupyterCommManager();\n    \n\n\nvar JS_MIME_TYPE = 'application/javascript';\nvar HTML_MIME_TYPE = 'text/html';\nvar EXEC_MIME_TYPE = 'application/vnd.holoviews_exec.v0+json';\nvar CLASS_NAME = 'output';\n\n/**\n * Render data to the DOM node\n */\nfunction render(props, node) {\n  var div = document.createElement(\"div\");\n  var script = document.createElement(\"script\");\n  node.appendChild(div);\n  node.appendChild(script);\n}\n\n/**\n * Handle when a new output is added\n */\nfunction handle_add_output(event, handle) {\n  var output_area = handle.output_area;\n  var output = handle.output;\n  if ((output.data == undefined) || (!output.data.hasOwnProperty(EXEC_MIME_TYPE))) {\n    return\n  }\n  var id = output.metadata[EXEC_MIME_TYPE][\"id\"];\n  var toinsert = output_area.element.find(\".\" + CLASS_NAME.split(' ')[0]);\n  if (id !== undefined) {\n    var nchildren = toinsert.length;\n    var html_node = toinsert[nchildren-1].children[0];\n    html_node.innerHTML = output.data[HTML_MIME_TYPE];\n    var scripts = [];\n    var nodelist = html_node.querySelectorAll(\"script\");\n    for (var i in nodelist) {\n      if (nodelist.hasOwnProperty(i)) {\n        scripts.push(nodelist[i])\n      }\n    }\n\n    scripts.forEach( function (oldScript) {\n      var newScript = document.createElement(\"script\");\n      var attrs = [];\n      var nodemap = oldScript.attributes;\n      for (var j in nodemap) {\n        if (nodemap.hasOwnProperty(j)) {\n          attrs.push(nodemap[j])\n        }\n      }\n      attrs.forEach(function(attr) { newScript.setAttribute(attr.name, attr.value) });\n      newScript.appendChild(document.createTextNode(oldScript.innerHTML));\n      oldScript.parentNode.replaceChild(newScript, oldScript);\n    });\n    if (JS_MIME_TYPE in output.data) {\n      toinsert[nchildren-1].children[1].textContent = output.data[JS_MIME_TYPE];\n    }\n    output_area._hv_plot_id = id;\n    if ((window.Bokeh !== undefined) && (id in Bokeh.index)) {\n      window.PyViz.plot_index[id] = Bokeh.index[id];\n    } else {\n      window.PyViz.plot_index[id] = null;\n    }\n  } else if (output.metadata[EXEC_MIME_TYPE][\"server_id\"] !== undefined) {\n    var bk_div = document.createElement(\"div\");\n    bk_div.innerHTML = output.data[HTML_MIME_TYPE];\n    var script_attrs = bk_div.children[0].attributes;\n    for (var i = 0; i < script_attrs.length; i++) {\n      toinsert[toinsert.length - 1].childNodes[1].setAttribute(script_attrs[i].name, script_attrs[i].value);\n    }\n    // store reference to server id on output_area\n    output_area._bokeh_server_id = output.metadata[EXEC_MIME_TYPE][\"server_id\"];\n  }\n}\n\n/**\n * Handle when an output is cleared or removed\n */\nfunction handle_clear_output(event, handle) {\n  var id = handle.cell.output_area._hv_plot_id;\n  var server_id = handle.cell.output_area._bokeh_server_id;\n  if (((id === undefined) || !(id in PyViz.plot_index)) && (server_id !== undefined)) { return; }\n  var comm = window.PyViz.comm_manager.get_client_comm(\"hv-extension-comm\", \"hv-extension-comm\", function () {});\n  if (server_id !== null) {\n    comm.send({event_type: 'server_delete', 'id': server_id});\n    return;\n  } else if (comm !== null) {\n    comm.send({event_type: 'delete', 'id': id});\n  }\n  delete PyViz.plot_index[id];\n  if ((window.Bokeh !== undefined) & (id in window.Bokeh.index)) {\n    var doc = window.Bokeh.index[id].model.document\n    doc.clear();\n    const i = window.Bokeh.documents.indexOf(doc);\n    if (i > -1) {\n      window.Bokeh.documents.splice(i, 1);\n    }\n  }\n}\n\n/**\n * Handle kernel restart event\n */\nfunction handle_kernel_cleanup(event, handle) {\n  delete PyViz.comms[\"hv-extension-comm\"];\n  window.PyViz.plot_index = {}\n}\n\n/**\n * Handle update_display_data messages\n */\nfunction handle_update_output(event, handle) {\n  handle_clear_output(event, {cell: {output_area: handle.output_area}})\n  handle_add_output(event, handle)\n}\n\nfunction register_renderer(events, OutputArea) {\n  function append_mime(data, metadata, element) {\n    // create a DOM node to render to\n    var toinsert = this.create_output_subarea(\n    metadata,\n    CLASS_NAME,\n    EXEC_MIME_TYPE\n    );\n    this.keyboard_manager.register_events(toinsert);\n    // Render to node\n    var props = {data: data, metadata: metadata[EXEC_MIME_TYPE]};\n    render(props, toinsert[0]);\n    element.append(toinsert);\n    return toinsert\n  }\n\n  events.on('output_added.OutputArea', handle_add_output);\n  events.on('output_updated.OutputArea', handle_update_output);\n  events.on('clear_output.CodeCell', handle_clear_output);\n  events.on('delete.Cell', handle_clear_output);\n  events.on('kernel_ready.Kernel', handle_kernel_cleanup);\n\n  OutputArea.prototype.register_mime_type(EXEC_MIME_TYPE, append_mime, {\n    safe: true,\n    index: 0\n  });\n}\n\nif (window.Jupyter !== undefined) {\n  try {\n    var events = require('base/js/events');\n    var OutputArea = require('notebook/js/outputarea').OutputArea;\n    if (OutputArea.prototype.mime_types().indexOf(EXEC_MIME_TYPE) == -1) {\n      register_renderer(events, OutputArea);\n    }\n  } catch(err) {\n  }\n}\n",
      "application/vnd.holoviews_load.v0+json": ""
     },
     "metadata": {},
     "output_type": "display_data"
    },
    {
     "data": {
      "application/vnd.holoviews_exec.v0+json": "",
      "text/html": [
       "<div id='p1002'>\n",
       "  <div id=\"f6969d73-2e4a-4570-b40a-2bc0ee59b023\" data-root-id=\"p1002\" style=\"display: contents;\"></div>\n",
       "</div>\n",
       "<script type=\"application/javascript\">(function(root) {\n",
       "  var docs_json = {\"d3e480f5-5a9c-4b73-8768-059183d55d52\":{\"version\":\"3.6.0\",\"title\":\"Bokeh Application\",\"roots\":[{\"type\":\"object\",\"name\":\"panel.models.browser.BrowserInfo\",\"id\":\"p1002\"},{\"type\":\"object\",\"name\":\"panel.models.comm_manager.CommManager\",\"id\":\"p1003\",\"attributes\":{\"plot_id\":\"p1002\",\"comm_id\":\"5ad43ce9ab52437f86e9d5b91c6fb291\",\"client_comm_id\":\"164ed92174a94a3b8247f8f2b63a7d4b\"}}],\"defs\":[{\"type\":\"model\",\"name\":\"ReactiveHTML1\"},{\"type\":\"model\",\"name\":\"FlexBox1\",\"properties\":[{\"name\":\"align_content\",\"kind\":\"Any\",\"default\":\"flex-start\"},{\"name\":\"align_items\",\"kind\":\"Any\",\"default\":\"flex-start\"},{\"name\":\"flex_direction\",\"kind\":\"Any\",\"default\":\"row\"},{\"name\":\"flex_wrap\",\"kind\":\"Any\",\"default\":\"wrap\"},{\"name\":\"gap\",\"kind\":\"Any\",\"default\":\"\"},{\"name\":\"justify_content\",\"kind\":\"Any\",\"default\":\"flex-start\"}]},{\"type\":\"model\",\"name\":\"FloatPanel1\",\"properties\":[{\"name\":\"config\",\"kind\":\"Any\",\"default\":{\"type\":\"map\"}},{\"name\":\"contained\",\"kind\":\"Any\",\"default\":true},{\"name\":\"position\",\"kind\":\"Any\",\"default\":\"right-top\"},{\"name\":\"offsetx\",\"kind\":\"Any\",\"default\":null},{\"name\":\"offsety\",\"kind\":\"Any\",\"default\":null},{\"name\":\"theme\",\"kind\":\"Any\",\"default\":\"primary\"},{\"name\":\"status\",\"kind\":\"Any\",\"default\":\"normalized\"}]},{\"type\":\"model\",\"name\":\"GridStack1\",\"properties\":[{\"name\":\"mode\",\"kind\":\"Any\",\"default\":\"warn\"},{\"name\":\"ncols\",\"kind\":\"Any\",\"default\":null},{\"name\":\"nrows\",\"kind\":\"Any\",\"default\":null},{\"name\":\"allow_resize\",\"kind\":\"Any\",\"default\":true},{\"name\":\"allow_drag\",\"kind\":\"Any\",\"default\":true},{\"name\":\"state\",\"kind\":\"Any\",\"default\":[]}]},{\"type\":\"model\",\"name\":\"drag1\",\"properties\":[{\"name\":\"slider_width\",\"kind\":\"Any\",\"default\":5},{\"name\":\"slider_color\",\"kind\":\"Any\",\"default\":\"black\"},{\"name\":\"value\",\"kind\":\"Any\",\"default\":50}]},{\"type\":\"model\",\"name\":\"click1\",\"properties\":[{\"name\":\"terminal_output\",\"kind\":\"Any\",\"default\":\"\"},{\"name\":\"debug_name\",\"kind\":\"Any\",\"default\":\"\"},{\"name\":\"clears\",\"kind\":\"Any\",\"default\":0}]},{\"type\":\"model\",\"name\":\"FastWrapper1\",\"properties\":[{\"name\":\"object\",\"kind\":\"Any\",\"default\":null},{\"name\":\"style\",\"kind\":\"Any\",\"default\":null}]},{\"type\":\"model\",\"name\":\"NotificationAreaBase1\",\"properties\":[{\"name\":\"js_events\",\"kind\":\"Any\",\"default\":{\"type\":\"map\"}},{\"name\":\"position\",\"kind\":\"Any\",\"default\":\"bottom-right\"},{\"name\":\"_clear\",\"kind\":\"Any\",\"default\":0}]},{\"type\":\"model\",\"name\":\"NotificationArea1\",\"properties\":[{\"name\":\"js_events\",\"kind\":\"Any\",\"default\":{\"type\":\"map\"}},{\"name\":\"notifications\",\"kind\":\"Any\",\"default\":[]},{\"name\":\"position\",\"kind\":\"Any\",\"default\":\"bottom-right\"},{\"name\":\"_clear\",\"kind\":\"Any\",\"default\":0},{\"name\":\"types\",\"kind\":\"Any\",\"default\":[{\"type\":\"map\",\"entries\":[[\"type\",\"warning\"],[\"background\",\"#ffc107\"],[\"icon\",{\"type\":\"map\",\"entries\":[[\"className\",\"fas fa-exclamation-triangle\"],[\"tagName\",\"i\"],[\"color\",\"white\"]]}]]},{\"type\":\"map\",\"entries\":[[\"type\",\"info\"],[\"background\",\"#007bff\"],[\"icon\",{\"type\":\"map\",\"entries\":[[\"className\",\"fas fa-info-circle\"],[\"tagName\",\"i\"],[\"color\",\"white\"]]}]]}]}]},{\"type\":\"model\",\"name\":\"Notification\",\"properties\":[{\"name\":\"background\",\"kind\":\"Any\",\"default\":null},{\"name\":\"duration\",\"kind\":\"Any\",\"default\":3000},{\"name\":\"icon\",\"kind\":\"Any\",\"default\":null},{\"name\":\"message\",\"kind\":\"Any\",\"default\":\"\"},{\"name\":\"notification_type\",\"kind\":\"Any\",\"default\":null},{\"name\":\"_destroyed\",\"kind\":\"Any\",\"default\":false}]},{\"type\":\"model\",\"name\":\"TemplateActions1\",\"properties\":[{\"name\":\"open_modal\",\"kind\":\"Any\",\"default\":0},{\"name\":\"close_modal\",\"kind\":\"Any\",\"default\":0}]},{\"type\":\"model\",\"name\":\"BootstrapTemplateActions1\",\"properties\":[{\"name\":\"open_modal\",\"kind\":\"Any\",\"default\":0},{\"name\":\"close_modal\",\"kind\":\"Any\",\"default\":0}]},{\"type\":\"model\",\"name\":\"TemplateEditor1\",\"properties\":[{\"name\":\"layout\",\"kind\":\"Any\",\"default\":[]}]},{\"type\":\"model\",\"name\":\"MaterialTemplateActions1\",\"properties\":[{\"name\":\"open_modal\",\"kind\":\"Any\",\"default\":0},{\"name\":\"close_modal\",\"kind\":\"Any\",\"default\":0}]},{\"type\":\"model\",\"name\":\"ReactiveESM1\"},{\"type\":\"model\",\"name\":\"JSComponent1\"},{\"type\":\"model\",\"name\":\"ReactComponent1\"},{\"type\":\"model\",\"name\":\"AnyWidgetComponent1\"},{\"type\":\"model\",\"name\":\"request_value1\",\"properties\":[{\"name\":\"fill\",\"kind\":\"Any\",\"default\":\"none\"},{\"name\":\"_synced\",\"kind\":\"Any\",\"default\":null},{\"name\":\"_request_sync\",\"kind\":\"Any\",\"default\":0}]}]}};\n",
       "  var render_items = [{\"docid\":\"d3e480f5-5a9c-4b73-8768-059183d55d52\",\"roots\":{\"p1002\":\"f6969d73-2e4a-4570-b40a-2bc0ee59b023\"},\"root_ids\":[\"p1002\"]}];\n",
       "  var docs = Object.values(docs_json)\n",
       "  if (!docs) {\n",
       "    return\n",
       "  }\n",
       "  const py_version = docs[0].version.replace('rc', '-rc.').replace('.dev', '-dev.')\n",
       "  async function embed_document(root) {\n",
       "    var Bokeh = get_bokeh(root)\n",
       "    await Bokeh.embed.embed_items_notebook(docs_json, render_items);\n",
       "    for (const render_item of render_items) {\n",
       "      for (const root_id of render_item.root_ids) {\n",
       "\tconst id_el = document.getElementById(root_id)\n",
       "\tif (id_el.children.length && id_el.children[0].hasAttribute('data-root-id')) {\n",
       "\t  const root_el = id_el.children[0]\n",
       "\t  root_el.id = root_el.id + '-rendered'\n",
       "\t  for (const child of root_el.children) {\n",
       "            // Ensure JupyterLab does not capture keyboard shortcuts\n",
       "            // see: https://jupyterlab.readthedocs.io/en/4.1.x/extension/notebook.html#keyboard-interaction-model\n",
       "\t    child.setAttribute('data-lm-suppress-shortcuts', 'true')\n",
       "\t  }\n",
       "\t}\n",
       "      }\n",
       "    }\n",
       "  }\n",
       "  function get_bokeh(root) {\n",
       "    if (root.Bokeh === undefined) {\n",
       "      return null\n",
       "    } else if (root.Bokeh.version !== py_version) {\n",
       "      if (root.Bokeh.versions === undefined || !root.Bokeh.versions.has(py_version)) {\n",
       "\treturn null\n",
       "      }\n",
       "      return root.Bokeh.versions.get(py_version);\n",
       "    } else if (root.Bokeh.version === py_version) {\n",
       "      return root.Bokeh\n",
       "    }\n",
       "    return null\n",
       "  }\n",
       "  function is_loaded(root) {\n",
       "    var Bokeh = get_bokeh(root)\n",
       "    return (Bokeh != null && Bokeh.Panel !== undefined)\n",
       "  }\n",
       "  if (is_loaded(root)) {\n",
       "    embed_document(root);\n",
       "  } else {\n",
       "    var attempts = 0;\n",
       "    var timer = setInterval(function(root) {\n",
       "      if (is_loaded(root)) {\n",
       "        clearInterval(timer);\n",
       "        embed_document(root);\n",
       "      } else if (document.readyState == \"complete\") {\n",
       "        attempts++;\n",
       "        if (attempts > 200) {\n",
       "          clearInterval(timer);\n",
       "\t  var Bokeh = get_bokeh(root)\n",
       "\t  if (Bokeh == null || Bokeh.Panel == null) {\n",
       "            console.warn(\"Panel: ERROR: Unable to run Panel code because Bokeh or Panel library is missing\");\n",
       "\t  } else {\n",
       "\t    console.warn(\"Panel: WARNING: Attempting to render but not all required libraries could be resolved.\")\n",
       "\t    embed_document(root)\n",
       "\t  }\n",
       "        }\n",
       "      }\n",
       "    }, 25, root)\n",
       "  }\n",
       "})(window);</script>"
      ]
     },
     "metadata": {
      "application/vnd.holoviews_exec.v0+json": {
       "id": "p1002"
      }
     },
     "output_type": "display_data"
    }
   ],
   "source": [
    "# Dependencies and Setup\n",
    "import hvplot.pandas\n",
    "import pandas as pd\n",
    "import requests\n",
    "\n",
    "# Import API key\n",
    "from api_keys import geoapify_key"
   ]
  },
  {
   "cell_type": "code",
   "execution_count": 3,
   "metadata": {},
   "outputs": [
    {
     "data": {
      "application/vnd.microsoft.datawrangler.viewer.v0+json": {
       "columns": [
        {
         "name": "index",
         "rawType": "int64",
         "type": "integer"
        },
        {
         "name": "City_ID",
         "rawType": "int64",
         "type": "integer"
        },
        {
         "name": "City",
         "rawType": "object",
         "type": "string"
        },
        {
         "name": "Lat",
         "rawType": "float64",
         "type": "float"
        },
        {
         "name": "Lng",
         "rawType": "float64",
         "type": "float"
        },
        {
         "name": "Max Temp",
         "rawType": "float64",
         "type": "float"
        },
        {
         "name": "Humidity",
         "rawType": "int64",
         "type": "integer"
        },
        {
         "name": "Cloudiness",
         "rawType": "int64",
         "type": "integer"
        },
        {
         "name": "Wind Speed",
         "rawType": "float64",
         "type": "float"
        },
        {
         "name": "Country",
         "rawType": "object",
         "type": "string"
        },
        {
         "name": "Date",
         "rawType": "int64",
         "type": "integer"
        }
       ],
       "conversionMethod": "pd.DataFrame",
       "ref": "8f7065d5-437a-45e9-957d-2b6e9ea32cbf",
       "rows": [
        [
         "0",
         "0",
         "bilibino",
         "68.0546",
         "166.4372",
         "-9.53",
         "82",
         "99",
         "2.02",
         "RU",
         "1743560437"
        ],
        [
         "1",
         "1",
         "kurduvadi",
         "18.0833",
         "75.4333",
         "28.69",
         "39",
         "63",
         "6.13",
         "IN",
         "1743560438"
        ],
        [
         "2",
         "2",
         "portland",
         "45.5234",
         "-122.6762",
         "11.56",
         "79",
         "100",
         "1.54",
         "US",
         "1743560015"
        ],
        [
         "3",
         "3",
         "blackmans bay",
         "-43.0167",
         "147.3167",
         "17.07",
         "58",
         "13",
         "0.45",
         "AU",
         "1743560441"
        ],
        [
         "4",
         "4",
         "mwaro",
         "-3.5",
         "29.6667",
         "12.95",
         "92",
         "100",
         "0.64",
         "BI",
         "1743560442"
        ]
       ],
       "shape": {
        "columns": 10,
        "rows": 5
       }
      },
      "text/html": [
       "<div>\n",
       "<style scoped>\n",
       "    .dataframe tbody tr th:only-of-type {\n",
       "        vertical-align: middle;\n",
       "    }\n",
       "\n",
       "    .dataframe tbody tr th {\n",
       "        vertical-align: top;\n",
       "    }\n",
       "\n",
       "    .dataframe thead th {\n",
       "        text-align: right;\n",
       "    }\n",
       "</style>\n",
       "<table border=\"1\" class=\"dataframe\">\n",
       "  <thead>\n",
       "    <tr style=\"text-align: right;\">\n",
       "      <th></th>\n",
       "      <th>City_ID</th>\n",
       "      <th>City</th>\n",
       "      <th>Lat</th>\n",
       "      <th>Lng</th>\n",
       "      <th>Max Temp</th>\n",
       "      <th>Humidity</th>\n",
       "      <th>Cloudiness</th>\n",
       "      <th>Wind Speed</th>\n",
       "      <th>Country</th>\n",
       "      <th>Date</th>\n",
       "    </tr>\n",
       "  </thead>\n",
       "  <tbody>\n",
       "    <tr>\n",
       "      <th>0</th>\n",
       "      <td>0</td>\n",
       "      <td>bilibino</td>\n",
       "      <td>68.0546</td>\n",
       "      <td>166.4372</td>\n",
       "      <td>-9.53</td>\n",
       "      <td>82</td>\n",
       "      <td>99</td>\n",
       "      <td>2.02</td>\n",
       "      <td>RU</td>\n",
       "      <td>1743560437</td>\n",
       "    </tr>\n",
       "    <tr>\n",
       "      <th>1</th>\n",
       "      <td>1</td>\n",
       "      <td>kurduvadi</td>\n",
       "      <td>18.0833</td>\n",
       "      <td>75.4333</td>\n",
       "      <td>28.69</td>\n",
       "      <td>39</td>\n",
       "      <td>63</td>\n",
       "      <td>6.13</td>\n",
       "      <td>IN</td>\n",
       "      <td>1743560438</td>\n",
       "    </tr>\n",
       "    <tr>\n",
       "      <th>2</th>\n",
       "      <td>2</td>\n",
       "      <td>portland</td>\n",
       "      <td>45.5234</td>\n",
       "      <td>-122.6762</td>\n",
       "      <td>11.56</td>\n",
       "      <td>79</td>\n",
       "      <td>100</td>\n",
       "      <td>1.54</td>\n",
       "      <td>US</td>\n",
       "      <td>1743560015</td>\n",
       "    </tr>\n",
       "    <tr>\n",
       "      <th>3</th>\n",
       "      <td>3</td>\n",
       "      <td>blackmans bay</td>\n",
       "      <td>-43.0167</td>\n",
       "      <td>147.3167</td>\n",
       "      <td>17.07</td>\n",
       "      <td>58</td>\n",
       "      <td>13</td>\n",
       "      <td>0.45</td>\n",
       "      <td>AU</td>\n",
       "      <td>1743560441</td>\n",
       "    </tr>\n",
       "    <tr>\n",
       "      <th>4</th>\n",
       "      <td>4</td>\n",
       "      <td>mwaro</td>\n",
       "      <td>-3.5000</td>\n",
       "      <td>29.6667</td>\n",
       "      <td>12.95</td>\n",
       "      <td>92</td>\n",
       "      <td>100</td>\n",
       "      <td>0.64</td>\n",
       "      <td>BI</td>\n",
       "      <td>1743560442</td>\n",
       "    </tr>\n",
       "  </tbody>\n",
       "</table>\n",
       "</div>"
      ],
      "text/plain": [
       "   City_ID           City      Lat       Lng  Max Temp  Humidity  Cloudiness  \\\n",
       "0        0       bilibino  68.0546  166.4372     -9.53        82          99   \n",
       "1        1      kurduvadi  18.0833   75.4333     28.69        39          63   \n",
       "2        2       portland  45.5234 -122.6762     11.56        79         100   \n",
       "3        3  blackmans bay -43.0167  147.3167     17.07        58          13   \n",
       "4        4          mwaro  -3.5000   29.6667     12.95        92         100   \n",
       "\n",
       "   Wind Speed Country        Date  \n",
       "0        2.02      RU  1743560437  \n",
       "1        6.13      IN  1743560438  \n",
       "2        1.54      US  1743560015  \n",
       "3        0.45      AU  1743560441  \n",
       "4        0.64      BI  1743560442  "
      ]
     },
     "execution_count": 3,
     "metadata": {},
     "output_type": "execute_result"
    }
   ],
   "source": [
    "# Load the CSV file created in Part 1 into a Pandas DataFrame\n",
    "city_data_df = pd.read_csv(\"output_data/cities.csv\")\n",
    "\n",
    "# Display sample data\n",
    "city_data_df.head()"
   ]
  },
  {
   "cell_type": "markdown",
   "metadata": {},
   "source": [
    "---\n",
    "\n",
    "### Step 1: Create a map that displays a point for every city in the `city_data_df` DataFrame. The size of the point should be the humidity in each city."
   ]
  },
  {
   "cell_type": "code",
   "execution_count": null,
   "metadata": {},
   "outputs": [
    {
     "data": {},
     "metadata": {},
     "output_type": "display_data"
    },
    {
     "data": {
      "application/vnd.holoviews_exec.v0+json": "",
      "text/html": [
       "<div id='p1255'>\n",
       "  <div id=\"c299cf89-e82b-411a-b798-b8f9bdddae6e\" data-root-id=\"p1255\" style=\"display: contents;\"></div>\n",
       "</div>\n",
       "<script type=\"application/javascript\">(function(root) {\n",
       "  var docs_json = {\"65ed600a-98f3-41dc-9d81-bcca6f0aeb22\":{\"version\":\"3.6.0\",\"title\":\"Bokeh Application\",\"roots\":[{\"type\":\"object\",\"name\":\"Row\",\"id\":\"p1255\",\"attributes\":{\"name\":\"Row01977\",\"tags\":[\"embedded\"],\"stylesheets\":[\"\\n:host(.pn-loading):before, .pn-loading:before {\\n  background-color: #c3c3c3;\\n  mask-size: auto calc(min(50%, 400px));\\n  -webkit-mask-size: auto calc(min(50%, 400px));\\n}\",{\"type\":\"object\",\"name\":\"ImportedStyleSheet\",\"id\":\"p1258\",\"attributes\":{\"url\":\"https://cdn.holoviz.org/panel/1.5.2/dist/css/loading.css\"}},{\"type\":\"object\",\"name\":\"ImportedStyleSheet\",\"id\":\"p1371\",\"attributes\":{\"url\":\"https://cdn.holoviz.org/panel/1.5.2/dist/css/listpanel.css\"}},{\"type\":\"object\",\"name\":\"ImportedStyleSheet\",\"id\":\"p1256\",\"attributes\":{\"url\":\"https://cdn.holoviz.org/panel/1.5.2/dist/bundled/theme/default.css\"}},{\"type\":\"object\",\"name\":\"ImportedStyleSheet\",\"id\":\"p1257\",\"attributes\":{\"url\":\"https://cdn.holoviz.org/panel/1.5.2/dist/bundled/theme/native.css\"}}],\"margin\":0,\"sizing_mode\":\"stretch_width\",\"align\":\"start\",\"children\":[{\"type\":\"object\",\"name\":\"Spacer\",\"id\":\"p1259\",\"attributes\":{\"name\":\"HSpacer01983\",\"stylesheets\":[\"\\n:host(.pn-loading):before, .pn-loading:before {\\n  background-color: #c3c3c3;\\n  mask-size: auto calc(min(50%, 400px));\\n  -webkit-mask-size: auto calc(min(50%, 400px));\\n}\",{\"id\":\"p1258\"},{\"id\":\"p1256\"},{\"id\":\"p1257\"}],\"margin\":0,\"sizing_mode\":\"stretch_width\",\"align\":\"start\"}},{\"type\":\"object\",\"name\":\"Figure\",\"id\":\"p1312\",\"attributes\":{\"width\":null,\"height\":null,\"margin\":[5,10],\"sizing_mode\":\"fixed\",\"align\":\"start\",\"x_range\":{\"type\":\"object\",\"name\":\"Range1d\",\"id\":\"p1275\",\"attributes\":{\"tags\":[[[\"Longitude\",null]],[]],\"start\":-22121402.823483627,\"end\":22282203.827934504,\"reset_start\":-22121402.823483627,\"reset_end\":22282203.827934504,\"min_interval\":5}},\"y_range\":{\"type\":\"object\",\"name\":\"Range1d\",\"id\":\"p1276\",\"attributes\":{\"tags\":[[[\"Latitude\",null]],{\"type\":\"map\",\"entries\":[[\"invert_yaxis\",false],[\"autorange\",false]]}],\"start\":-10294305.55897043,\"end\":17457948.5981659,\"reset_start\":-10294305.55897043,\"reset_end\":17457948.5981659,\"min_interval\":5}},\"x_scale\":{\"type\":\"object\",\"name\":\"LinearScale\",\"id\":\"p1322\"},\"y_scale\":{\"type\":\"object\",\"name\":\"LinearScale\",\"id\":\"p1323\"},\"title\":{\"type\":\"object\",\"name\":\"Title\",\"id\":\"p1315\",\"attributes\":{\"text_color\":\"black\",\"text_font_size\":\"12pt\"}},\"renderers\":[{\"type\":\"object\",\"name\":\"TileRenderer\",\"id\":\"p1345\",\"attributes\":{\"level\":\"underlay\",\"tile_source\":{\"type\":\"object\",\"name\":\"WMTSTileSource\",\"id\":\"p1341\",\"attributes\":{\"url\":\"https://c.tile.openstreetmap.org/{Z}/{X}/{Y}.png\",\"attribution\":\"&copy; <a href=\\\"https://www.openstreetmap.org/copyright\\\">OpenStreetMap</a> contributors\"}}}},{\"type\":\"object\",\"name\":\"GlyphRenderer\",\"id\":\"p1361\",\"attributes\":{\"name\":\"color\",\"data_source\":{\"type\":\"object\",\"name\":\"ColumnDataSource\",\"id\":\"p1350\",\"attributes\":{\"selected\":{\"type\":\"object\",\"name\":\"Selection\",\"id\":\"p1351\",\"attributes\":{\"indices\":[],\"line_indices\":[]}},\"selection_policy\":{\"type\":\"object\",\"name\":\"UnionRenderers\",\"id\":\"p1352\"},\"data\":{\"type\":\"map\",\"entries\":[[\"Lng\",{\"type\":\"ndarray\",\"array\":{\"type\":\"bytes\",\"data\":\"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\"},\"shape\":[580],\"dtype\":\"float64\",\"order\":\"little\"}],[\"Lat\",{\"type\":\"ndarray\",\"array\":{\"type\":\"bytes\",\"data\":\"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\"},\"shape\":[580],\"dtype\":\"float64\",\"order\":\"little\"}],[\"City\",[\"bilibino\",\"kurduvadi\",\"portland\",\"blackmans bay\",\"mwaro\",\"georgetown\",\"pemangkat\",\"pagar alam\",\"nadym\",\"samora correia\",\"isafjordur\",\"waitangi\",\"broken hill\",\"lompoc\",\"argo\",\"mangrol\",\"edinburgh of the seven seas\",\"borogontsy\",\"carnarvon\",\"iskateley\",\"hamilton\",\"cidreira\",\"dudinka\",\"adamstown\",\"port lincoln\",\"thompson\",\"jamestown\",\"bousso\",\"coquimbo\",\"gainsborough\",\"port-aux-francais\",\"praia da vitoria\",\"ust-nera\",\"margaret river\",\"al mutayrifi\",\"veraval\",\"fortuna\",\"vilyuchinsk\",\"pangody\",\"zakamensk\",\"college\",\"san pedro pochutla\",\"tazovsky\",\"port elizabeth\",\"polyarnyy\",\"bethel\",\"crane\",\"vorgashor\",\"wailua homesteads\",\"fortaleza\",\"pacific grove\",\"iqaluit\",\"andergrove\",\"qaqortoq\",\"arraial do cabo\",\"papatowai\",\"malpica\",\"constantia\",\"albany\",\"dryden\",\"nemuro\",\"urangan\",\"aasiaat\",\"nizhniy kuranakh\",\"yeniseysk\",\"nar'yan-mar\",\"ascension\",\"santiago de cao\",\"kirensk\",\"olonkinbyen\",\"kodiak\",\"pinckneyville\",\"balkanabat\",\"tiksi\",\"lepsy\",\"gulf shores\",\"shache\",\"anadyr\",\"uruguaiana\",\"ferkessedougou\",\"ilebo\",\"chibougamau\",\"lysyye gory\",\"grytviken\",\"puerto natales\",\"st albans\",\"punta arenas\",\"ocean city\",\"essaouira\",\"talnakh\",\"west island\",\"penzance\",\"machali\",\"puerto ayora\",\"kegen\",\"mohr\",\"holualoa\",\"arno\",\"at taj\",\"haiku-pauwela\",\"minas de marcona\",\"sinop\",\"sitka\",\"marsabit\",\"hadibu\",\"blythe\",\"lata\",\"jining\",\"utrik\",\"morondava\",\"stanley\",\"cafayate\",\"timimoun\",\"san clemente del tuyu\",\"whitehorse\",\"khanty-mansiysk\",\"badger\",\"tamanrasset\",\"bredasdorp\",\"errachidia\",\"bonthe\",\"lihue\",\"itapecuru mirim\",\"hilo\",\"labrador city\",\"bafia\",\"sainte-suzanne\",\"kapuskasing\",\"micheweni\",\"vila velha\",\"valdivia\",\"hawaiian paradise park\",\"kashgar\",\"victoria falls\",\"mount gambier\",\"klamath falls\",\"lorengau\",\"howrah\",\"pierre\",\"tolanaro\",\"dunedin\",\"rouissat\",\"port mathurin\",\"ola\",\"nagqu\",\"east london\",\"siwa oasis\",\"levuka\",\"tshabong\",\"stiens\",\"farasan\",\"arkhangel'sk\",\"ust-tsilma\",\"margate\",\"imbituba\",\"san agustin de valle fertil\",\"san rafael del sur\",\"avarua\",\"khash\",\"ilulissat\",\"jimma\",\"odda\",\"puerto vilelas\",\"taksimo\",\"znamenskoye\",\"new norfolk\",\"yanam\",\"la romana\",\"turpan\",\"petropavlovsk-kamchatsky\",\"yellowknife\",\"scheveningen\",\"reggane\",\"vadso\",\"fale old settlement\",\"lerwick\",\"klaksvik\",\"luxor\",\"hasaki\",\"aykhal\",\"preobrazheniye\",\"olovyannaya\",\"piti village\",\"san carlos\",\"kollo\",\"zhangatas\",\"ribeira grande\",\"san luis de la loma\",\"vilhena\",\"tokar\",\"bundaberg\",\"saipan\",\"am timan\",\"lebu\",\"longyearbyen\",\"namibe\",\"tura\",\"invercargill\",\"paita\",\"irymple\",\"cadale\",\"magadan\",\"udachny\",\"la'ie\",\"rotonda west\",\"san jeronimo\",\"al jahra'\",\"baruun-urt\",\"jalqani\",\"sao felix do xingu\",\"touros\",\"ushuaia\",\"warrnambool\",\"didymoteicho\",\"codrington\",\"vuktyl\",\"enewetak\",\"awjilah\",\"dursunbey\",\"kurgan\",\"westport\",\"sejny\",\"isangel\",\"gizo\",\"kaa-khem\",\"gambiran satu\",\"bunbury\",\"hami\",\"afaahiti\",\"manokwari\",\"labuan\",\"kitimat\",\"ivdel'\",\"fort st. john\",\"kingston\",\"san patricio\",\"yelizovo\",\"iquique\",\"vysokiy\",\"cannonvale\",\"ostersund\",\"pushkino\",\"lautoka\",\"sarangani\",\"sirte\",\"skovorodino\",\"malakal\",\"mejit\",\"grand falls-windsor\",\"alesund\",\"sofifi\",\"gariaband\",\"beira\",\"flin flon\",\"cururupu\",\"bemidji\",\"muang phonsavan\",\"palmer\",\"natal\",\"bouar\",\"sinabang\",\"ponta delgada\",\"juegang\",\"akureyri\",\"geraldton\",\"la passe\",\"saguenay\",\"darovskoy\",\"kadugli\",\"usogorsk\",\"klyuchi\",\"atafu village\",\"galle\",\"gloucester\",\"rongelap\",\"cooma\",\"protaras\",\"vozhega\",\"karkira\",\"chonchi\",\"turabah\",\"kavaratti\",\"livramento do brumado\",\"assab\",\"kavieng\",\"muroto-misakicho\",\"cockburn town\",\"kruisfontein\",\"mogadishu\",\"nouadhibou\",\"hoemul-li\",\"najran\",\"salekhard\",\"rovaniemi\",\"n'zeto\",\"hammerfest\",\"basco\",\"jwaneng\",\"papao\",\"malvan\",\"auki\",\"pimentel\",\"muromtsevo\",\"alice springs\",\"san jose del guaviare\",\"puerto baquerizo moreno\",\"kerikeri\",\"taguatinga\",\"ghadamis\",\"kristiansund\",\"toliara\",\"sao joao da barra\",\"huarmey\",\"qui nhon\",\"guarapari\",\"hermanus\",\"st. john's\",\"bartoszyce\",\"radomsko\",\"markovo\",\"lufilufi\",\"harper\",\"onega\",\"batticaloa\",\"ta'izz\",\"champerico\",\"jawf al maqbabah\",\"oroqen zizhiqi\",\"filadelfia\",\"wingham\",\"reshetylivka\",\"bubaque\",\"palikir - national government center\",\"mysen\",\"tabuk\",\"port alfred\",\"forster\",\"jutai\",\"svetlyy\",\"egilsstadir\",\"tongliao\",\"saldanha\",\"arsikere\",\"antsiranana\",\"terenos\",\"labytnangi\",\"fisterra\",\"clarkston heights-vineland\",\"tombodu\",\"ayorou\",\"menzel abderhaman\",\"tabarka\",\"prainha\",\"ancud\",\"chake chake\",\"antofagasta\",\"rio grande\",\"itoman\",\"quang ngai\",\"kerema\",\"guerrero negro\",\"chifeng\",\"greenwood\",\"ierapetra\",\"whakatane\",\"feodosiya\",\"greymouth\",\"nalut\",\"aiquile\",\"taroa\",\"peace river\",\"kenai\",\"cuajinicuilapa\",\"matoury\",\"kaitong\",\"fada\",\"bueng kan\",\"buala\",\"zemio\",\"umarkot\",\"ghormach\",\"langsa\",\"falmouth\",\"barra do bugres\",\"jabat\",\"castillos\",\"hobyo\",\"burang\",\"catio\",\"hard bargain\",\"san antonio de pale\",\"fuerte olimpo\",\"nyurba\",\"acarau\",\"salym\",\"carlsbad\",\"kuta\",\"estevan\",\"pisco\",\"santa terezinha\",\"whitecourt\",\"bardsir\",\"le port\",\"newman\",\"macae\",\"xiongzhou\",\"williams lake\",\"priozersk\",\"ashchysay\",\"salalah\",\"pervomayskiy\",\"itaueira\",\"dongola\",\"okha\",\"teluknaga\",\"queenstown\",\"callao\",\"camacupa\",\"myitkyina\",\"eyl\",\"tralee\",\"kas\",\"sunne\",\"puerto rosario\",\"flying fish cove\",\"bodaybo\",\"el jadid\",\"sligo\",\"bereznik\",\"gadzhiyevo\",\"uturoa\",\"hotan\",\"gornopravdinsk\",\"kapa'a\",\"q'vareli\",\"strugi-krasnyye\",\"poronaysk\",\"shimoda\",\"joshimath\",\"ust'-ordynskiy\",\"port alberni\",\"kuantan\",\"hithadhoo\",\"nelson\",\"kill devil hills\",\"villa la angostura\",\"angaur state\",\"berezovyy\",\"macenta\",\"kourou\",\"kuusamo\",\"kangding\",\"mount isa\",\"losice\",\"salumbar\",\"lagunillas\",\"la paz\",\"bamboo flat\",\"almeirim\",\"kyzylorda\",\"kwang binh\",\"luorong\",\"nuuk\",\"olmaliq\",\"yacuiba\",\"tambura\",\"havre\",\"malango\",\"las palmas\",\"xilin hot\",\"krasyliv\",\"coahuayana de hidalgo\",\"boguchany\",\"smithers\",\"kirakira\",\"nabire\",\"lospalos\",\"luderitz\",\"keflavik\",\"parthenay\",\"zhicheng\",\"les anglais\",\"korsakov\",\"dalnegorsk\",\"morant bay\",\"port moresby\",\"sisimiut\",\"juneau\",\"dhidhdhoo\",\"independent hill\",\"ajdabiya\",\"pallisa\",\"sao vicente\",\"youkounkoun\",\"berbera\",\"emkhomazi\",\"richards bay\",\"suciu de sus\",\"nemyriv\",\"nadi\",\"revda\",\"randfontein\",\"san andres\",\"north platte\",\"port of spain\",\"yanchep\",\"olinda\",\"beroroha\",\"susuman\",\"loa janan\",\"farmville\",\"edd\",\"harstad\",\"colonia\",\"hastings\",\"kyren\",\"faya-largeau\",\"al burayqah\",\"aranyaprathet\",\"sarh\",\"daru\",\"ouadda\",\"botou\",\"tayu\",\"kudahuvadhoo\",\"murzuq\",\"cabo san lucas\",\"peebles\",\"arakkonam\",\"tommot\",\"omuo-ekiti\",\"amungan\",\"al jawf\",\"ubinskoye\",\"mpongwe\",\"charters towers\",\"vorkuta\",\"guymon\",\"chinchilla\",\"iquitos\",\"omdurman\",\"paoy paet\",\"alotau\",\"puerto deseado\",\"saint-philippe\",\"vernon\",\"isabela\",\"turochak\",\"vila franca do campo\",\"usinsk\",\"selfoss\",\"baiti\",\"abaza\",\"rio de janeiro\",\"katsuren-haebaru\",\"ain kercha\",\"tianpeng\",\"machico\",\"al khawr\",\"salinopolis\",\"candelaria\",\"monroeville\",\"beidaihehaibin\",\"galesong\",\"waspan\",\"gisborne\",\"kununurra\",\"zhosaly\",\"las heras\",\"port shepstone\",\"manta\",\"yamada\",\"bikenibeu village\",\"borinskoye\",\"fort mcmurray\",\"trancas\",\"shenjiamen\",\"bathsheba\",\"porto novo\",\"batu pahat\"]],[\"Humidity\",{\"type\":\"ndarray\",\"array\":{\"type\":\"bytes\",\"data\":\"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\"},\"shape\":[580],\"dtype\":\"int32\",\"order\":\"little\"}],[\"color\",[\"bilibino\",\"kurduvadi\",\"portland\",\"blackmans bay\",\"mwaro\",\"georgetown\",\"pemangkat\",\"pagar alam\",\"nadym\",\"samora correia\",\"isafjordur\",\"waitangi\",\"broken hill\",\"lompoc\",\"argo\",\"mangrol\",\"edinburgh of the seven seas\",\"borogontsy\",\"carnarvon\",\"iskateley\",\"hamilton\",\"cidreira\",\"dudinka\",\"adamstown\",\"port lincoln\",\"thompson\",\"jamestown\",\"bousso\",\"coquimbo\",\"gainsborough\",\"port-aux-francais\",\"praia da vitoria\",\"ust-nera\",\"margaret river\",\"al mutayrifi\",\"veraval\",\"fortuna\",\"vilyuchinsk\",\"pangody\",\"zakamensk\",\"college\",\"san pedro pochutla\",\"tazovsky\",\"port elizabeth\",\"polyarnyy\",\"bethel\",\"crane\",\"vorgashor\",\"wailua homesteads\",\"fortaleza\",\"pacific grove\",\"iqaluit\",\"andergrove\",\"qaqortoq\",\"arraial do cabo\",\"papatowai\",\"malpica\",\"constantia\",\"albany\",\"dryden\",\"nemuro\",\"urangan\",\"aasiaat\",\"nizhniy kuranakh\",\"yeniseysk\",\"nar'yan-mar\",\"ascension\",\"santiago de cao\",\"kirensk\",\"olonkinbyen\",\"kodiak\",\"pinckneyville\",\"balkanabat\",\"tiksi\",\"lepsy\",\"gulf shores\",\"shache\",\"anadyr\",\"uruguaiana\",\"ferkessedougou\",\"ilebo\",\"chibougamau\",\"lysyye gory\",\"grytviken\",\"puerto natales\",\"st albans\",\"punta arenas\",\"ocean city\",\"essaouira\",\"talnakh\",\"west island\",\"penzance\",\"machali\",\"puerto ayora\",\"kegen\",\"mohr\",\"holualoa\",\"arno\",\"at taj\",\"haiku-pauwela\",\"minas de marcona\",\"sinop\",\"sitka\",\"marsabit\",\"hadibu\",\"blythe\",\"lata\",\"jining\",\"utrik\",\"morondava\",\"stanley\",\"cafayate\",\"timimoun\",\"san clemente del tuyu\",\"whitehorse\",\"khanty-mansiysk\",\"badger\",\"tamanrasset\",\"bredasdorp\",\"errachidia\",\"bonthe\",\"lihue\",\"itapecuru mirim\",\"hilo\",\"labrador city\",\"bafia\",\"sainte-suzanne\",\"kapuskasing\",\"micheweni\",\"vila velha\",\"valdivia\",\"hawaiian paradise park\",\"kashgar\",\"victoria falls\",\"mount gambier\",\"klamath falls\",\"lorengau\",\"howrah\",\"pierre\",\"tolanaro\",\"dunedin\",\"rouissat\",\"port mathurin\",\"ola\",\"nagqu\",\"east london\",\"siwa oasis\",\"levuka\",\"tshabong\",\"stiens\",\"farasan\",\"arkhangel'sk\",\"ust-tsilma\",\"margate\",\"imbituba\",\"san agustin de valle fertil\",\"san rafael del sur\",\"avarua\",\"khash\",\"ilulissat\",\"jimma\",\"odda\",\"puerto vilelas\",\"taksimo\",\"znamenskoye\",\"new norfolk\",\"yanam\",\"la romana\",\"turpan\",\"petropavlovsk-kamchatsky\",\"yellowknife\",\"scheveningen\",\"reggane\",\"vadso\",\"fale old settlement\",\"lerwick\",\"klaksvik\",\"luxor\",\"hasaki\",\"aykhal\",\"preobrazheniye\",\"olovyannaya\",\"piti village\",\"san carlos\",\"kollo\",\"zhangatas\",\"ribeira grande\",\"san luis de la loma\",\"vilhena\",\"tokar\",\"bundaberg\",\"saipan\",\"am timan\",\"lebu\",\"longyearbyen\",\"namibe\",\"tura\",\"invercargill\",\"paita\",\"irymple\",\"cadale\",\"magadan\",\"udachny\",\"la'ie\",\"rotonda west\",\"san jeronimo\",\"al jahra'\",\"baruun-urt\",\"jalqani\",\"sao felix do xingu\",\"touros\",\"ushuaia\",\"warrnambool\",\"didymoteicho\",\"codrington\",\"vuktyl\",\"enewetak\",\"awjilah\",\"dursunbey\",\"kurgan\",\"westport\",\"sejny\",\"isangel\",\"gizo\",\"kaa-khem\",\"gambiran satu\",\"bunbury\",\"hami\",\"afaahiti\",\"manokwari\",\"labuan\",\"kitimat\",\"ivdel'\",\"fort st. john\",\"kingston\",\"san patricio\",\"yelizovo\",\"iquique\",\"vysokiy\",\"cannonvale\",\"ostersund\",\"pushkino\",\"lautoka\",\"sarangani\",\"sirte\",\"skovorodino\",\"malakal\",\"mejit\",\"grand falls-windsor\",\"alesund\",\"sofifi\",\"gariaband\",\"beira\",\"flin flon\",\"cururupu\",\"bemidji\",\"muang phonsavan\",\"palmer\",\"natal\",\"bouar\",\"sinabang\",\"ponta delgada\",\"juegang\",\"akureyri\",\"geraldton\",\"la passe\",\"saguenay\",\"darovskoy\",\"kadugli\",\"usogorsk\",\"klyuchi\",\"atafu village\",\"galle\",\"gloucester\",\"rongelap\",\"cooma\",\"protaras\",\"vozhega\",\"karkira\",\"chonchi\",\"turabah\",\"kavaratti\",\"livramento do brumado\",\"assab\",\"kavieng\",\"muroto-misakicho\",\"cockburn town\",\"kruisfontein\",\"mogadishu\",\"nouadhibou\",\"hoemul-li\",\"najran\",\"salekhard\",\"rovaniemi\",\"n'zeto\",\"hammerfest\",\"basco\",\"jwaneng\",\"papao\",\"malvan\",\"auki\",\"pimentel\",\"muromtsevo\",\"alice springs\",\"san jose del guaviare\",\"puerto baquerizo moreno\",\"kerikeri\",\"taguatinga\",\"ghadamis\",\"kristiansund\",\"toliara\",\"sao joao da barra\",\"huarmey\",\"qui nhon\",\"guarapari\",\"hermanus\",\"st. john's\",\"bartoszyce\",\"radomsko\",\"markovo\",\"lufilufi\",\"harper\",\"onega\",\"batticaloa\",\"ta'izz\",\"champerico\",\"jawf al maqbabah\",\"oroqen zizhiqi\",\"filadelfia\",\"wingham\",\"reshetylivka\",\"bubaque\",\"palikir - national government center\",\"mysen\",\"tabuk\",\"port alfred\",\"forster\",\"jutai\",\"svetlyy\",\"egilsstadir\",\"tongliao\",\"saldanha\",\"arsikere\",\"antsiranana\",\"terenos\",\"labytnangi\",\"fisterra\",\"clarkston heights-vineland\",\"tombodu\",\"ayorou\",\"menzel abderhaman\",\"tabarka\",\"prainha\",\"ancud\",\"chake chake\",\"antofagasta\",\"rio grande\",\"itoman\",\"quang ngai\",\"kerema\",\"guerrero negro\",\"chifeng\",\"greenwood\",\"ierapetra\",\"whakatane\",\"feodosiya\",\"greymouth\",\"nalut\",\"aiquile\",\"taroa\",\"peace river\",\"kenai\",\"cuajinicuilapa\",\"matoury\",\"kaitong\",\"fada\",\"bueng kan\",\"buala\",\"zemio\",\"umarkot\",\"ghormach\",\"langsa\",\"falmouth\",\"barra do bugres\",\"jabat\",\"castillos\",\"hobyo\",\"burang\",\"catio\",\"hard bargain\",\"san antonio de pale\",\"fuerte olimpo\",\"nyurba\",\"acarau\",\"salym\",\"carlsbad\",\"kuta\",\"estevan\",\"pisco\",\"santa terezinha\",\"whitecourt\",\"bardsir\",\"le port\",\"newman\",\"macae\",\"xiongzhou\",\"williams lake\",\"priozersk\",\"ashchysay\",\"salalah\",\"pervomayskiy\",\"itaueira\",\"dongola\",\"okha\",\"teluknaga\",\"queenstown\",\"callao\",\"camacupa\",\"myitkyina\",\"eyl\",\"tralee\",\"kas\",\"sunne\",\"puerto rosario\",\"flying fish cove\",\"bodaybo\",\"el jadid\",\"sligo\",\"bereznik\",\"gadzhiyevo\",\"uturoa\",\"hotan\",\"gornopravdinsk\",\"kapa'a\",\"q'vareli\",\"strugi-krasnyye\",\"poronaysk\",\"shimoda\",\"joshimath\",\"ust'-ordynskiy\",\"port alberni\",\"kuantan\",\"hithadhoo\",\"nelson\",\"kill devil hills\",\"villa la angostura\",\"angaur state\",\"berezovyy\",\"macenta\",\"kourou\",\"kuusamo\",\"kangding\",\"mount isa\",\"losice\",\"salumbar\",\"lagunillas\",\"la paz\",\"bamboo flat\",\"almeirim\",\"kyzylorda\",\"kwang binh\",\"luorong\",\"nuuk\",\"olmaliq\",\"yacuiba\",\"tambura\",\"havre\",\"malango\",\"las palmas\",\"xilin hot\",\"krasyliv\",\"coahuayana de hidalgo\",\"boguchany\",\"smithers\",\"kirakira\",\"nabire\",\"lospalos\",\"luderitz\",\"keflavik\",\"parthenay\",\"zhicheng\",\"les anglais\",\"korsakov\",\"dalnegorsk\",\"morant bay\",\"port moresby\",\"sisimiut\",\"juneau\",\"dhidhdhoo\",\"independent hill\",\"ajdabiya\",\"pallisa\",\"sao vicente\",\"youkounkoun\",\"berbera\",\"emkhomazi\",\"richards bay\",\"suciu de sus\",\"nemyriv\",\"nadi\",\"revda\",\"randfontein\",\"san andres\",\"north platte\",\"port of spain\",\"yanchep\",\"olinda\",\"beroroha\",\"susuman\",\"loa janan\",\"farmville\",\"edd\",\"harstad\",\"colonia\",\"hastings\",\"kyren\",\"faya-largeau\",\"al burayqah\",\"aranyaprathet\",\"sarh\",\"daru\",\"ouadda\",\"botou\",\"tayu\",\"kudahuvadhoo\",\"murzuq\",\"cabo san lucas\",\"peebles\",\"arakkonam\",\"tommot\",\"omuo-ekiti\",\"amungan\",\"al jawf\",\"ubinskoye\",\"mpongwe\",\"charters towers\",\"vorkuta\",\"guymon\",\"chinchilla\",\"iquitos\",\"omdurman\",\"paoy paet\",\"alotau\",\"puerto deseado\",\"saint-philippe\",\"vernon\",\"isabela\",\"turochak\",\"vila franca do campo\",\"usinsk\",\"selfoss\",\"baiti\",\"abaza\",\"rio de janeiro\",\"katsuren-haebaru\",\"ain kercha\",\"tianpeng\",\"machico\",\"al khawr\",\"salinopolis\",\"candelaria\",\"monroeville\",\"beidaihehaibin\",\"galesong\",\"waspan\",\"gisborne\",\"kununurra\",\"zhosaly\",\"las heras\",\"port shepstone\",\"manta\",\"yamada\",\"bikenibeu village\",\"borinskoye\",\"fort mcmurray\",\"trancas\",\"shenjiamen\",\"bathsheba\",\"porto novo\",\"batu pahat\"]],[\"size\",{\"type\":\"ndarray\",\"array\":{\"type\":\"bytes\",\"data\":\"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\"},\"shape\":[580],\"dtype\":\"float64\",\"order\":\"little\"}]]}}},\"view\":{\"type\":\"object\",\"name\":\"CDSView\",\"id\":\"p1362\",\"attributes\":{\"filter\":{\"type\":\"object\",\"name\":\"AllIndices\",\"id\":\"p1363\"}}},\"glyph\":{\"type\":\"object\",\"name\":\"Scatter\",\"id\":\"p1356\",\"attributes\":{\"tags\":[\"apply_ranges\"],\"x\":{\"type\":\"field\",\"field\":\"Lng\"},\"y\":{\"type\":\"field\",\"field\":\"Lat\"},\"size\":{\"type\":\"field\",\"field\":\"size\"},\"line_color\":{\"type\":\"field\",\"field\":\"color\",\"transform\":{\"type\":\"object\",\"name\":\"CategoricalColorMapper\",\"id\":\"p1349\",\"attributes\":{\"palette\":[\"#1f77b3\",\"#ff7e0e\",\"#2ba02b\",\"#d62628\",\"#9367bc\",\"#8c564b\",\"#e277c1\",\"#7e7e7e\",\"#bcbc21\",\"#16bdcf\",\"#3a0182\",\"#004201\",\"#0fffa8\",\"#5d003f\",\"#bcbcff\",\"#d8afa1\",\"#b80080\",\"#004d52\",\"#6b6400\",\"#7c0100\",\"#6026ff\",\"#ffff9a\",\"#564964\",\"#8cb893\",\"#93fbff\",\"#018267\",\"#90ff00\",\"#8200a0\",\"#ac8944\",\"#5b3400\",\"#ffbff2\",\"#ff6e75\",\"#798cff\",\"#dd00ff\",\"#505646\",\"#004489\",\"#ffbf60\",\"#ff018c\",\"#bdc8cf\",\"#af97b5\",\"#b65600\",\"#017000\",\"#cd87ff\",\"#1cd646\",\"#bfebc3\",\"#7997b5\",\"#a56089\",\"#6e8956\",\"#bc7c75\",\"#8a2844\",\"#00acff\",\"#8ed4ff\",\"#4b6d77\",\"#00d4b1\",\"#9300f2\",\"#8a9500\",\"#5d5b9e\",\"#fddfba\",\"#00939e\",\"#ffdb00\",\"#00aa79\",\"#520067\",\"#000091\",\"#0a5d3d\",\"#a5e275\",\"#623b41\",\"#c6c689\",\"#ff9eb5\",\"#cd4f6b\",\"#ff07d6\",\"#8a3a05\",\"#7e3d70\",\"#ff4901\",\"#602ba5\",\"#1c00ff\",\"#e6dfff\",\"#aa3baf\",\"#d89c00\",\"#a3a39e\",\"#3f69ff\",\"#46490c\",\"#7b6985\",\"#6b978c\",\"#ff9a75\",\"#835bff\",\"#7c6b46\",\"#80b654\",\"#bc0049\",\"#fd93ff\",\"#5d0018\",\"#89d1d1\",\"#9c8cd3\",\"#da6d42\",\"#8a5700\",\"#3b5069\",\"#4b6b3b\",\"#edcfd8\",\"#cfedff\",\"#aa1500\",\"#dfff4f\",\"#ff2a56\",\"#d1499e\",\"#707cb8\",\"#598000\",\"#00e4fd\",\"#774b95\",\"#67d48c\",\"#3d3a72\",\"#ac413f\",\"#d6a166\",\"#c169cd\",\"#69595d\",\"#87aced\",\"#a0a569\",\"#d1aae6\",\"#870062\",\"#00fddb\",\"#672818\",\"#b342ff\",\"#0e59c4\",\"#168742\",\"#90d300\",\"#cd7900\",\"#f959ff\",\"#5b7466\",\"#8eaeb3\",\"#9c7c8c\",\"#4600c6\",\"#6b4d2d\",\"#a56d46\",\"#9e8972\",\"#a8afca\",\"#cd8ca7\",\"#00fd64\",\"#917900\",\"#ff62a1\",\"#f4ffd8\",\"#018cf0\",\"#13aca0\",\"#5b2d59\",\"#89859e\",\"#cfccba\",\"#d4afc4\",\"#dbdd6d\",\"#cffff4\",\"#006485\",\"#006962\",\"#a84167\",\"#2d97c4\",\"#a874ff\",\"#26ba5d\",\"#57b600\",\"#caffa7\",\"#a379aa\",\"#ffbc93\",\"#89e2c1\",\"#0fc8ff\",\"#d400c4\",\"#626d89\",\"#69858e\",\"#4b4d52\",\"#aa6067\",\"#79b5d4\",\"#2b5916\",\"#9a0024\",\"#bdd1f2\",\"#896e67\",\"#69a56b\",\"#855467\",\"#aecdba\",\"#87997e\",\"#cadb00\",\"#9a0390\",\"#ebbc1a\",\"#eb9cd1\",\"#70006e\",\"#b1a131\",\"#ca6b93\",\"#4146a3\",\"#e48c89\",\"#d44400\",\"#c68aca\",\"#b69597\",\"#d41f75\",\"#724bcc\",\"#674d00\",\"#672138\",\"#38564f\",\"#6ebaaa\",\"#853a31\",\"#a5d397\",\"#b8af8e\",\"#d8e4df\",\"#aa00df\",\"#cac1db\",\"#ffdf8c\",\"#e2524d\",\"#66696e\",\"#ff001c\",\"#522d72\",\"#4d906b\",\"#a86d11\",\"#ff9e26\",\"#5ea3af\",\"#c88556\",\"#915997\",\"#a3a1ff\",\"#fdbaba\",\"#242a87\",\"#dbe6a8\",\"#97f2a7\",\"#6793d6\",\"#ba5b3f\",\"#3a5d91\",\"#364f2f\",\"#267c95\",\"#89959a\",\"#cfb356\",\"#004664\",\"#5e5d2f\",\"#8e8e41\",\"#ac3f13\",\"#69953b\",\"#a13d85\",\"#bfb6ba\",\"#acc667\",\"#6469cf\",\"#91af00\",\"#2be2da\",\"#016e36\",\"#ff7952\",\"#42807e\",\"#4fe800\",\"#995428\",\"#5d0a00\",\"#a30057\",\"#0c8700\",\"#5982a7\",\"#ffebfb\",\"#4b6901\",\"#8775d4\",\"#e6c6ff\",\"#a5ffda\",\"#d86e77\",\"#df014b\",\"#69675b\",\"#776ba1\",\"#7e8067\",\"#594685\",\"#0000ca\",\"#7c002a\",\"#97ff72\",\"#b5e2e1\",\"#db52c8\",\"#777734\",\"#57bd8e\",\"#1f77b3\",\"#ff7e0e\",\"#2ba02b\",\"#d62628\",\"#9367bc\",\"#8c564b\",\"#e277c1\",\"#7e7e7e\",\"#bcbc21\",\"#16bdcf\",\"#3a0182\",\"#004201\",\"#0fffa8\",\"#5d003f\",\"#bcbcff\",\"#d8afa1\",\"#b80080\",\"#004d52\",\"#6b6400\",\"#7c0100\",\"#6026ff\",\"#ffff9a\",\"#564964\",\"#8cb893\",\"#93fbff\",\"#018267\",\"#90ff00\",\"#8200a0\",\"#ac8944\",\"#5b3400\",\"#ffbff2\",\"#ff6e75\",\"#798cff\",\"#dd00ff\",\"#505646\",\"#004489\",\"#ffbf60\",\"#ff018c\",\"#bdc8cf\",\"#af97b5\",\"#b65600\",\"#017000\",\"#cd87ff\",\"#1cd646\",\"#bfebc3\",\"#7997b5\",\"#a56089\",\"#6e8956\",\"#bc7c75\",\"#8a2844\",\"#00acff\",\"#8ed4ff\",\"#4b6d77\",\"#00d4b1\",\"#9300f2\",\"#8a9500\",\"#5d5b9e\",\"#fddfba\",\"#00939e\",\"#ffdb00\",\"#00aa79\",\"#520067\",\"#000091\",\"#0a5d3d\",\"#a5e275\",\"#623b41\",\"#c6c689\",\"#ff9eb5\",\"#cd4f6b\",\"#ff07d6\",\"#8a3a05\",\"#7e3d70\",\"#ff4901\",\"#602ba5\",\"#1c00ff\",\"#e6dfff\",\"#aa3baf\",\"#d89c00\",\"#a3a39e\",\"#3f69ff\",\"#46490c\",\"#7b6985\",\"#6b978c\",\"#ff9a75\",\"#835bff\",\"#7c6b46\",\"#80b654\",\"#bc0049\",\"#fd93ff\",\"#5d0018\",\"#89d1d1\",\"#9c8cd3\",\"#da6d42\",\"#8a5700\",\"#3b5069\",\"#4b6b3b\",\"#edcfd8\",\"#cfedff\",\"#aa1500\",\"#dfff4f\",\"#ff2a56\",\"#d1499e\",\"#707cb8\",\"#598000\",\"#00e4fd\",\"#774b95\",\"#67d48c\",\"#3d3a72\",\"#ac413f\",\"#d6a166\",\"#c169cd\",\"#69595d\",\"#87aced\",\"#a0a569\",\"#d1aae6\",\"#870062\",\"#00fddb\",\"#672818\",\"#b342ff\",\"#0e59c4\",\"#168742\",\"#90d300\",\"#cd7900\",\"#f959ff\",\"#5b7466\",\"#8eaeb3\",\"#9c7c8c\",\"#4600c6\",\"#6b4d2d\",\"#a56d46\",\"#9e8972\",\"#a8afca\",\"#cd8ca7\",\"#00fd64\",\"#917900\",\"#ff62a1\",\"#f4ffd8\",\"#018cf0\",\"#13aca0\",\"#5b2d59\",\"#89859e\",\"#cfccba\",\"#d4afc4\",\"#dbdd6d\",\"#cffff4\",\"#006485\",\"#006962\",\"#a84167\",\"#2d97c4\",\"#a874ff\",\"#26ba5d\",\"#57b600\",\"#caffa7\",\"#a379aa\",\"#ffbc93\",\"#89e2c1\",\"#0fc8ff\",\"#d400c4\",\"#626d89\",\"#69858e\",\"#4b4d52\",\"#aa6067\",\"#79b5d4\",\"#2b5916\",\"#9a0024\",\"#bdd1f2\",\"#896e67\",\"#69a56b\",\"#855467\",\"#aecdba\",\"#87997e\",\"#cadb00\",\"#9a0390\",\"#ebbc1a\",\"#eb9cd1\",\"#70006e\",\"#b1a131\",\"#ca6b93\",\"#4146a3\",\"#e48c89\",\"#d44400\",\"#c68aca\",\"#b69597\",\"#d41f75\",\"#724bcc\",\"#674d00\",\"#672138\",\"#38564f\",\"#6ebaaa\",\"#853a31\",\"#a5d397\",\"#b8af8e\",\"#d8e4df\",\"#aa00df\",\"#cac1db\",\"#ffdf8c\",\"#e2524d\",\"#66696e\",\"#ff001c\",\"#522d72\",\"#4d906b\",\"#a86d11\",\"#ff9e26\",\"#5ea3af\",\"#c88556\",\"#915997\",\"#a3a1ff\",\"#fdbaba\",\"#242a87\",\"#dbe6a8\",\"#97f2a7\",\"#6793d6\",\"#ba5b3f\",\"#3a5d91\",\"#364f2f\",\"#267c95\",\"#89959a\",\"#cfb356\",\"#004664\",\"#5e5d2f\",\"#8e8e41\",\"#ac3f13\",\"#69953b\",\"#a13d85\",\"#bfb6ba\",\"#acc667\",\"#6469cf\",\"#91af00\",\"#2be2da\",\"#016e36\",\"#ff7952\",\"#42807e\",\"#4fe800\",\"#995428\",\"#5d0a00\",\"#a30057\",\"#0c8700\",\"#5982a7\",\"#ffebfb\",\"#4b6901\",\"#8775d4\",\"#e6c6ff\",\"#a5ffda\",\"#d86e77\",\"#df014b\",\"#69675b\",\"#776ba1\",\"#7e8067\",\"#594685\",\"#0000ca\",\"#7c002a\",\"#97ff72\",\"#b5e2e1\",\"#db52c8\",\"#777734\",\"#57bd8e\",\"#1f77b3\",\"#ff7e0e\",\"#2ba02b\",\"#d62628\",\"#9367bc\",\"#8c564b\",\"#e277c1\",\"#7e7e7e\",\"#bcbc21\",\"#16bdcf\",\"#3a0182\",\"#004201\",\"#0fffa8\",\"#5d003f\",\"#bcbcff\",\"#d8afa1\",\"#b80080\",\"#004d52\",\"#6b6400\",\"#7c0100\",\"#6026ff\",\"#ffff9a\",\"#564964\",\"#8cb893\",\"#93fbff\",\"#018267\",\"#90ff00\",\"#8200a0\",\"#ac8944\",\"#5b3400\",\"#ffbff2\",\"#ff6e75\",\"#798cff\",\"#dd00ff\",\"#505646\",\"#004489\",\"#ffbf60\",\"#ff018c\",\"#bdc8cf\",\"#af97b5\",\"#b65600\",\"#017000\",\"#cd87ff\",\"#1cd646\",\"#bfebc3\",\"#7997b5\",\"#a56089\",\"#6e8956\",\"#bc7c75\",\"#8a2844\",\"#00acff\",\"#8ed4ff\",\"#4b6d77\",\"#00d4b1\",\"#9300f2\",\"#8a9500\",\"#5d5b9e\",\"#fddfba\",\"#00939e\",\"#ffdb00\",\"#00aa79\",\"#520067\",\"#000091\",\"#0a5d3d\",\"#a5e275\",\"#623b41\",\"#c6c689\",\"#ff9eb5\"],\"factors\":[\"bilibino\",\"kurduvadi\",\"portland\",\"blackmans bay\",\"mwaro\",\"georgetown\",\"pemangkat\",\"pagar alam\",\"nadym\",\"samora correia\",\"isafjordur\",\"waitangi\",\"broken hill\",\"lompoc\",\"argo\",\"mangrol\",\"edinburgh of the seven seas\",\"borogontsy\",\"carnarvon\",\"iskateley\",\"hamilton\",\"cidreira\",\"dudinka\",\"adamstown\",\"port lincoln\",\"thompson\",\"jamestown\",\"bousso\",\"coquimbo\",\"gainsborough\",\"port-aux-francais\",\"praia da vitoria\",\"ust-nera\",\"margaret river\",\"al mutayrifi\",\"veraval\",\"fortuna\",\"vilyuchinsk\",\"pangody\",\"zakamensk\",\"college\",\"san pedro pochutla\",\"tazovsky\",\"port elizabeth\",\"polyarnyy\",\"bethel\",\"crane\",\"vorgashor\",\"wailua homesteads\",\"fortaleza\",\"pacific grove\",\"iqaluit\",\"andergrove\",\"qaqortoq\",\"arraial do cabo\",\"papatowai\",\"malpica\",\"constantia\",\"albany\",\"dryden\",\"nemuro\",\"urangan\",\"aasiaat\",\"nizhniy kuranakh\",\"yeniseysk\",\"nar'yan-mar\",\"ascension\",\"santiago de cao\",\"kirensk\",\"olonkinbyen\",\"kodiak\",\"pinckneyville\",\"balkanabat\",\"tiksi\",\"lepsy\",\"gulf shores\",\"shache\",\"anadyr\",\"uruguaiana\",\"ferkessedougou\",\"ilebo\",\"chibougamau\",\"lysyye gory\",\"grytviken\",\"puerto natales\",\"st albans\",\"punta arenas\",\"ocean city\",\"essaouira\",\"talnakh\",\"west island\",\"penzance\",\"machali\",\"puerto ayora\",\"kegen\",\"mohr\",\"holualoa\",\"arno\",\"at taj\",\"haiku-pauwela\",\"minas de marcona\",\"sinop\",\"sitka\",\"marsabit\",\"hadibu\",\"blythe\",\"lata\",\"jining\",\"utrik\",\"morondava\",\"stanley\",\"cafayate\",\"timimoun\",\"san clemente del tuyu\",\"whitehorse\",\"khanty-mansiysk\",\"badger\",\"tamanrasset\",\"bredasdorp\",\"errachidia\",\"bonthe\",\"lihue\",\"itapecuru mirim\",\"hilo\",\"labrador city\",\"bafia\",\"sainte-suzanne\",\"kapuskasing\",\"micheweni\",\"vila velha\",\"valdivia\",\"hawaiian paradise park\",\"kashgar\",\"victoria falls\",\"mount gambier\",\"klamath falls\",\"lorengau\",\"howrah\",\"pierre\",\"tolanaro\",\"dunedin\",\"rouissat\",\"port mathurin\",\"ola\",\"nagqu\",\"east london\",\"siwa oasis\",\"levuka\",\"tshabong\",\"stiens\",\"farasan\",\"arkhangel'sk\",\"ust-tsilma\",\"margate\",\"imbituba\",\"san agustin de valle fertil\",\"san rafael del sur\",\"avarua\",\"khash\",\"ilulissat\",\"jimma\",\"odda\",\"puerto vilelas\",\"taksimo\",\"znamenskoye\",\"new norfolk\",\"yanam\",\"la romana\",\"turpan\",\"petropavlovsk-kamchatsky\",\"yellowknife\",\"scheveningen\",\"reggane\",\"vadso\",\"fale old settlement\",\"lerwick\",\"klaksvik\",\"luxor\",\"hasaki\",\"aykhal\",\"preobrazheniye\",\"olovyannaya\",\"piti village\",\"san carlos\",\"kollo\",\"zhangatas\",\"ribeira grande\",\"san luis de la loma\",\"vilhena\",\"tokar\",\"bundaberg\",\"saipan\",\"am timan\",\"lebu\",\"longyearbyen\",\"namibe\",\"tura\",\"invercargill\",\"paita\",\"irymple\",\"cadale\",\"magadan\",\"udachny\",\"la'ie\",\"rotonda west\",\"san jeronimo\",\"al jahra'\",\"baruun-urt\",\"jalqani\",\"sao felix do xingu\",\"touros\",\"ushuaia\",\"warrnambool\",\"didymoteicho\",\"codrington\",\"vuktyl\",\"enewetak\",\"awjilah\",\"dursunbey\",\"kurgan\",\"westport\",\"sejny\",\"isangel\",\"gizo\",\"kaa-khem\",\"gambiran satu\",\"bunbury\",\"hami\",\"afaahiti\",\"manokwari\",\"labuan\",\"kitimat\",\"ivdel'\",\"fort st. john\",\"kingston\",\"san patricio\",\"yelizovo\",\"iquique\",\"vysokiy\",\"cannonvale\",\"ostersund\",\"pushkino\",\"lautoka\",\"sarangani\",\"sirte\",\"skovorodino\",\"malakal\",\"mejit\",\"grand falls-windsor\",\"alesund\",\"sofifi\",\"gariaband\",\"beira\",\"flin flon\",\"cururupu\",\"bemidji\",\"muang phonsavan\",\"palmer\",\"natal\",\"bouar\",\"sinabang\",\"ponta delgada\",\"juegang\",\"akureyri\",\"geraldton\",\"la passe\",\"saguenay\",\"darovskoy\",\"kadugli\",\"usogorsk\",\"klyuchi\",\"atafu village\",\"galle\",\"gloucester\",\"rongelap\",\"cooma\",\"protaras\",\"vozhega\",\"karkira\",\"chonchi\",\"turabah\",\"kavaratti\",\"livramento do brumado\",\"assab\",\"kavieng\",\"muroto-misakicho\",\"cockburn town\",\"kruisfontein\",\"mogadishu\",\"nouadhibou\",\"hoemul-li\",\"najran\",\"salekhard\",\"rovaniemi\",\"n'zeto\",\"hammerfest\",\"basco\",\"jwaneng\",\"papao\",\"malvan\",\"auki\",\"pimentel\",\"muromtsevo\",\"alice springs\",\"san jose del guaviare\",\"puerto baquerizo moreno\",\"kerikeri\",\"taguatinga\",\"ghadamis\",\"kristiansund\",\"toliara\",\"sao joao da barra\",\"huarmey\",\"qui nhon\",\"guarapari\",\"hermanus\",\"st. john's\",\"bartoszyce\",\"radomsko\",\"markovo\",\"lufilufi\",\"harper\",\"onega\",\"batticaloa\",\"ta'izz\",\"champerico\",\"jawf al maqbabah\",\"oroqen zizhiqi\",\"filadelfia\",\"wingham\",\"reshetylivka\",\"bubaque\",\"palikir - national government center\",\"mysen\",\"tabuk\",\"port alfred\",\"forster\",\"jutai\",\"svetlyy\",\"egilsstadir\",\"tongliao\",\"saldanha\",\"arsikere\",\"antsiranana\",\"terenos\",\"labytnangi\",\"fisterra\",\"clarkston heights-vineland\",\"tombodu\",\"ayorou\",\"menzel abderhaman\",\"tabarka\",\"prainha\",\"ancud\",\"chake chake\",\"antofagasta\",\"rio grande\",\"itoman\",\"quang ngai\",\"kerema\",\"guerrero negro\",\"chifeng\",\"greenwood\",\"ierapetra\",\"whakatane\",\"feodosiya\",\"greymouth\",\"nalut\",\"aiquile\",\"taroa\",\"peace river\",\"kenai\",\"cuajinicuilapa\",\"matoury\",\"kaitong\",\"fada\",\"bueng kan\",\"buala\",\"zemio\",\"umarkot\",\"ghormach\",\"langsa\",\"falmouth\",\"barra do bugres\",\"jabat\",\"castillos\",\"hobyo\",\"burang\",\"catio\",\"hard bargain\",\"san antonio de pale\",\"fuerte olimpo\",\"nyurba\",\"acarau\",\"salym\",\"carlsbad\",\"kuta\",\"estevan\",\"pisco\",\"santa terezinha\",\"whitecourt\",\"bardsir\",\"le port\",\"newman\",\"macae\",\"xiongzhou\",\"williams lake\",\"priozersk\",\"ashchysay\",\"salalah\",\"pervomayskiy\",\"itaueira\",\"dongola\",\"okha\",\"teluknaga\",\"queenstown\",\"callao\",\"camacupa\",\"myitkyina\",\"eyl\",\"tralee\",\"kas\",\"sunne\",\"puerto rosario\",\"flying fish cove\",\"bodaybo\",\"el jadid\",\"sligo\",\"bereznik\",\"gadzhiyevo\",\"uturoa\",\"hotan\",\"gornopravdinsk\",\"kapa'a\",\"q'vareli\",\"strugi-krasnyye\",\"poronaysk\",\"shimoda\",\"joshimath\",\"ust'-ordynskiy\",\"port alberni\",\"kuantan\",\"hithadhoo\",\"nelson\",\"kill devil hills\",\"villa la angostura\",\"angaur state\",\"berezovyy\",\"macenta\",\"kourou\",\"kuusamo\",\"kangding\",\"mount isa\",\"losice\",\"salumbar\",\"lagunillas\",\"la paz\",\"bamboo flat\",\"almeirim\",\"kyzylorda\",\"kwang binh\",\"luorong\",\"nuuk\",\"olmaliq\",\"yacuiba\",\"tambura\",\"havre\",\"malango\",\"las palmas\",\"xilin hot\",\"krasyliv\",\"coahuayana de hidalgo\",\"boguchany\",\"smithers\",\"kirakira\",\"nabire\",\"lospalos\",\"luderitz\",\"keflavik\",\"parthenay\",\"zhicheng\",\"les anglais\",\"korsakov\",\"dalnegorsk\",\"morant bay\",\"port moresby\",\"sisimiut\",\"juneau\",\"dhidhdhoo\",\"independent hill\",\"ajdabiya\",\"pallisa\",\"sao vicente\",\"youkounkoun\",\"berbera\",\"emkhomazi\",\"richards bay\",\"suciu de sus\",\"nemyriv\",\"nadi\",\"revda\",\"randfontein\",\"san andres\",\"north platte\",\"port of spain\",\"yanchep\",\"olinda\",\"beroroha\",\"susuman\",\"loa janan\",\"farmville\",\"edd\",\"harstad\",\"colonia\",\"hastings\",\"kyren\",\"faya-largeau\",\"al burayqah\",\"aranyaprathet\",\"sarh\",\"daru\",\"ouadda\",\"botou\",\"tayu\",\"kudahuvadhoo\",\"murzuq\",\"cabo san lucas\",\"peebles\",\"arakkonam\",\"tommot\",\"omuo-ekiti\",\"amungan\",\"al jawf\",\"ubinskoye\",\"mpongwe\",\"charters towers\",\"vorkuta\",\"guymon\",\"chinchilla\",\"iquitos\",\"omdurman\",\"paoy paet\",\"alotau\",\"puerto deseado\",\"saint-philippe\",\"vernon\",\"isabela\",\"turochak\",\"vila franca do campo\",\"usinsk\",\"selfoss\",\"baiti\",\"abaza\",\"rio de janeiro\",\"katsuren-haebaru\",\"ain kercha\",\"tianpeng\",\"machico\",\"al khawr\",\"salinopolis\",\"candelaria\",\"monroeville\",\"beidaihehaibin\",\"galesong\",\"waspan\",\"gisborne\",\"kununurra\",\"zhosaly\",\"las heras\",\"port shepstone\",\"manta\",\"yamada\",\"bikenibeu village\",\"borinskoye\",\"fort mcmurray\",\"trancas\",\"shenjiamen\",\"bathsheba\",\"porto novo\",\"batu pahat\"]}}},\"line_alpha\":{\"type\":\"value\",\"value\":0.6},\"fill_color\":{\"type\":\"field\",\"field\":\"color\",\"transform\":{\"id\":\"p1349\"}},\"fill_alpha\":{\"type\":\"value\",\"value\":0.6},\"hatch_color\":{\"type\":\"field\",\"field\":\"color\",\"transform\":{\"id\":\"p1349\"}},\"hatch_alpha\":{\"type\":\"value\",\"value\":0.6}}},\"selection_glyph\":{\"type\":\"object\",\"name\":\"Scatter\",\"id\":\"p1358\",\"attributes\":{\"tags\":[\"apply_ranges\"],\"x\":{\"type\":\"field\",\"field\":\"Lng\"},\"y\":{\"type\":\"field\",\"field\":\"Lat\"},\"size\":{\"type\":\"field\",\"field\":\"size\"},\"line_color\":{\"type\":\"field\",\"field\":\"color\",\"transform\":{\"id\":\"p1349\"}},\"line_alpha\":{\"type\":\"value\",\"value\":0.6},\"fill_color\":{\"type\":\"field\",\"field\":\"color\",\"transform\":{\"id\":\"p1349\"}},\"fill_alpha\":{\"type\":\"value\",\"value\":0.6},\"hatch_color\":{\"type\":\"field\",\"field\":\"color\",\"transform\":{\"id\":\"p1349\"}},\"hatch_alpha\":{\"type\":\"value\",\"value\":0.6}}},\"nonselection_glyph\":{\"type\":\"object\",\"name\":\"Scatter\",\"id\":\"p1357\",\"attributes\":{\"tags\":[\"apply_ranges\"],\"x\":{\"type\":\"field\",\"field\":\"Lng\"},\"y\":{\"type\":\"field\",\"field\":\"Lat\"},\"size\":{\"type\":\"field\",\"field\":\"size\"},\"line_color\":{\"type\":\"field\",\"field\":\"color\",\"transform\":{\"id\":\"p1349\"}},\"line_alpha\":{\"type\":\"value\",\"value\":0.6},\"fill_color\":{\"type\":\"field\",\"field\":\"color\",\"transform\":{\"id\":\"p1349\"}},\"fill_alpha\":{\"type\":\"value\",\"value\":0.6},\"hatch_color\":{\"type\":\"field\",\"field\":\"color\",\"transform\":{\"id\":\"p1349\"}},\"hatch_alpha\":{\"type\":\"value\",\"value\":0.1}}},\"hover_glyph\":{\"type\":\"object\",\"name\":\"Scatter\",\"id\":\"p1359\",\"attributes\":{\"tags\":[\"apply_ranges\"],\"x\":{\"type\":\"field\",\"field\":\"Lng\"},\"y\":{\"type\":\"field\",\"field\":\"Lat\"},\"size\":{\"type\":\"field\",\"field\":\"size\"},\"line_color\":{\"type\":\"field\",\"field\":\"color\",\"transform\":{\"id\":\"p1349\"}},\"line_alpha\":{\"type\":\"value\",\"value\":0.6},\"fill_color\":{\"type\":\"field\",\"field\":\"color\",\"transform\":{\"id\":\"p1349\"}},\"fill_alpha\":{\"type\":\"value\",\"value\":0.6},\"hatch_color\":{\"type\":\"field\",\"field\":\"color\",\"transform\":{\"id\":\"p1349\"}},\"hatch_alpha\":{\"type\":\"value\",\"value\":0.6}}},\"muted_glyph\":{\"type\":\"object\",\"name\":\"Scatter\",\"id\":\"p1360\",\"attributes\":{\"tags\":[\"apply_ranges\"],\"x\":{\"type\":\"field\",\"field\":\"Lng\"},\"y\":{\"type\":\"field\",\"field\":\"Lat\"},\"size\":{\"type\":\"field\",\"field\":\"size\"},\"line_color\":{\"type\":\"field\",\"field\":\"color\",\"transform\":{\"id\":\"p1349\"}},\"line_alpha\":{\"type\":\"value\",\"value\":0.2},\"fill_color\":{\"type\":\"field\",\"field\":\"color\",\"transform\":{\"id\":\"p1349\"}},\"fill_alpha\":{\"type\":\"value\",\"value\":0.2},\"hatch_color\":{\"type\":\"field\",\"field\":\"color\",\"transform\":{\"id\":\"p1349\"}},\"hatch_alpha\":{\"type\":\"value\",\"value\":0.2}}}}}],\"toolbar\":{\"type\":\"object\",\"name\":\"Toolbar\",\"id\":\"p1321\",\"attributes\":{\"tools\":[{\"type\":\"object\",\"name\":\"WheelZoomTool\",\"id\":\"p1279\",\"attributes\":{\"renderers\":\"auto\",\"zoom_on_axis\":false}},{\"type\":\"object\",\"name\":\"BoxZoomTool\",\"id\":\"p1287\",\"attributes\":{\"overlay\":{\"type\":\"object\",\"name\":\"BoxAnnotation\",\"id\":\"p1280\",\"attributes\":{\"syncable\":false,\"line_color\":\"black\",\"line_alpha\":1.0,\"line_width\":2,\"line_dash\":[4,4],\"fill_color\":\"lightgrey\",\"fill_alpha\":0.5,\"level\":\"overlay\",\"visible\":false,\"left\":{\"type\":\"number\",\"value\":\"nan\"},\"right\":{\"type\":\"number\",\"value\":\"nan\"},\"top\":{\"type\":\"number\",\"value\":\"nan\"},\"bottom\":{\"type\":\"number\",\"value\":\"nan\"},\"left_units\":\"canvas\",\"right_units\":\"canvas\",\"top_units\":\"canvas\",\"bottom_units\":\"canvas\",\"handles\":{\"type\":\"object\",\"name\":\"BoxInteractionHandles\",\"id\":\"p1012\",\"attributes\":{\"all\":{\"type\":\"object\",\"name\":\"AreaVisuals\",\"id\":\"p1011\",\"attributes\":{\"fill_color\":\"white\",\"hover_fill_color\":\"lightgray\"}}}}}},\"match_aspect\":true}},{\"type\":\"object\",\"name\":\"HoverTool\",\"id\":\"p1311\",\"attributes\":{\"tags\":[\"hv_created\"],\"renderers\":[{\"id\":\"p1361\"}],\"tooltips\":[[\"Lng\",\"$x{custom}\"],[\"Lat\",\"$y{custom}\"],[\"City\",\"@{City}\"],[\"Humidity\",\"@{Humidity}\"]],\"formatters\":{\"type\":\"map\",\"entries\":[[\"$x\",{\"type\":\"object\",\"name\":\"CustomJSHover\",\"id\":\"p1366\",\"attributes\":{\"code\":\"\\n        const projections = Bokeh.require(\\\"core/util/projections\\\");\\n        const {snap_x, snap_y} = special_vars\\n        const coords = projections.wgs84_mercator.invert(snap_x, snap_y)\\n        return \\\"\\\" + (coords[0]).toFixed(4)\\n    \"}}],[\"$y\",{\"type\":\"object\",\"name\":\"CustomJSHover\",\"id\":\"p1367\",\"attributes\":{\"code\":\"\\n        const projections = Bokeh.require(\\\"core/util/projections\\\");\\n        const {snap_x, snap_y} = special_vars\\n        const coords = projections.wgs84_mercator.invert(snap_x, snap_y)\\n        return \\\"\\\" + (coords[1]).toFixed(4)\\n    \"}}]]}}},{\"type\":\"object\",\"name\":\"PanTool\",\"id\":\"p1335\"},{\"type\":\"object\",\"name\":\"ResetTool\",\"id\":\"p1336\"}],\"active_drag\":{\"id\":\"p1335\"}}},\"left\":[{\"type\":\"object\",\"name\":\"LinearAxis\",\"id\":\"p1329\",\"attributes\":{\"ticker\":{\"type\":\"object\",\"name\":\"MercatorTicker\",\"id\":\"p1339\",\"attributes\":{\"mantissas\":[1,2,5],\"dimension\":\"lat\"}},\"formatter\":{\"type\":\"object\",\"name\":\"MercatorTickFormatter\",\"id\":\"p1340\",\"attributes\":{\"dimension\":\"lat\"}},\"axis_label\":\"Latitude\",\"major_label_policy\":{\"type\":\"object\",\"name\":\"AllLabels\",\"id\":\"p1332\"}}}],\"right\":[{\"type\":\"object\",\"name\":\"Legend\",\"id\":\"p1364\",\"attributes\":{\"location\":[0,0],\"click_policy\":\"mute\",\"items\":[{\"type\":\"object\",\"name\":\"LegendItem\",\"id\":\"p1365\",\"attributes\":{\"label\":{\"type\":\"field\",\"field\":\"color\"},\"renderers\":[{\"id\":\"p1361\"}]}}]}}],\"below\":[{\"type\":\"object\",\"name\":\"LinearAxis\",\"id\":\"p1324\",\"attributes\":{\"ticker\":{\"type\":\"object\",\"name\":\"MercatorTicker\",\"id\":\"p1337\",\"attributes\":{\"mantissas\":[1,2,5],\"dimension\":\"lon\"}},\"formatter\":{\"type\":\"object\",\"name\":\"MercatorTickFormatter\",\"id\":\"p1338\",\"attributes\":{\"dimension\":\"lon\"}},\"axis_label\":\"Longitude\",\"major_label_policy\":{\"type\":\"object\",\"name\":\"AllLabels\",\"id\":\"p1327\"}}}],\"center\":[{\"type\":\"object\",\"name\":\"Grid\",\"id\":\"p1328\",\"attributes\":{\"axis\":{\"id\":\"p1324\"},\"grid_line_color\":null}},{\"type\":\"object\",\"name\":\"Grid\",\"id\":\"p1333\",\"attributes\":{\"dimension\":1,\"axis\":{\"id\":\"p1329\"},\"grid_line_color\":null}}],\"frame_width\":800,\"frame_height\":500,\"min_border_top\":10,\"min_border_bottom\":10,\"min_border_left\":10,\"min_border_right\":10,\"output_backend\":\"webgl\",\"match_aspect\":true}},{\"type\":\"object\",\"name\":\"Spacer\",\"id\":\"p1369\",\"attributes\":{\"name\":\"HSpacer01984\",\"stylesheets\":[\"\\n:host(.pn-loading):before, .pn-loading:before {\\n  background-color: #c3c3c3;\\n  mask-size: auto calc(min(50%, 400px));\\n  -webkit-mask-size: auto calc(min(50%, 400px));\\n}\",{\"id\":\"p1258\"},{\"id\":\"p1256\"},{\"id\":\"p1257\"}],\"margin\":0,\"sizing_mode\":\"stretch_width\",\"align\":\"start\"}}]}}],\"defs\":[{\"type\":\"model\",\"name\":\"ReactiveHTML1\"},{\"type\":\"model\",\"name\":\"FlexBox1\",\"properties\":[{\"name\":\"align_content\",\"kind\":\"Any\",\"default\":\"flex-start\"},{\"name\":\"align_items\",\"kind\":\"Any\",\"default\":\"flex-start\"},{\"name\":\"flex_direction\",\"kind\":\"Any\",\"default\":\"row\"},{\"name\":\"flex_wrap\",\"kind\":\"Any\",\"default\":\"wrap\"},{\"name\":\"gap\",\"kind\":\"Any\",\"default\":\"\"},{\"name\":\"justify_content\",\"kind\":\"Any\",\"default\":\"flex-start\"}]},{\"type\":\"model\",\"name\":\"FloatPanel1\",\"properties\":[{\"name\":\"config\",\"kind\":\"Any\",\"default\":{\"type\":\"map\"}},{\"name\":\"contained\",\"kind\":\"Any\",\"default\":true},{\"name\":\"position\",\"kind\":\"Any\",\"default\":\"right-top\"},{\"name\":\"offsetx\",\"kind\":\"Any\",\"default\":null},{\"name\":\"offsety\",\"kind\":\"Any\",\"default\":null},{\"name\":\"theme\",\"kind\":\"Any\",\"default\":\"primary\"},{\"name\":\"status\",\"kind\":\"Any\",\"default\":\"normalized\"}]},{\"type\":\"model\",\"name\":\"GridStack1\",\"properties\":[{\"name\":\"mode\",\"kind\":\"Any\",\"default\":\"warn\"},{\"name\":\"ncols\",\"kind\":\"Any\",\"default\":null},{\"name\":\"nrows\",\"kind\":\"Any\",\"default\":null},{\"name\":\"allow_resize\",\"kind\":\"Any\",\"default\":true},{\"name\":\"allow_drag\",\"kind\":\"Any\",\"default\":true},{\"name\":\"state\",\"kind\":\"Any\",\"default\":[]}]},{\"type\":\"model\",\"name\":\"drag1\",\"properties\":[{\"name\":\"slider_width\",\"kind\":\"Any\",\"default\":5},{\"name\":\"slider_color\",\"kind\":\"Any\",\"default\":\"black\"},{\"name\":\"value\",\"kind\":\"Any\",\"default\":50}]},{\"type\":\"model\",\"name\":\"click1\",\"properties\":[{\"name\":\"terminal_output\",\"kind\":\"Any\",\"default\":\"\"},{\"name\":\"debug_name\",\"kind\":\"Any\",\"default\":\"\"},{\"name\":\"clears\",\"kind\":\"Any\",\"default\":0}]},{\"type\":\"model\",\"name\":\"FastWrapper1\",\"properties\":[{\"name\":\"object\",\"kind\":\"Any\",\"default\":null},{\"name\":\"style\",\"kind\":\"Any\",\"default\":null}]},{\"type\":\"model\",\"name\":\"NotificationAreaBase1\",\"properties\":[{\"name\":\"js_events\",\"kind\":\"Any\",\"default\":{\"type\":\"map\"}},{\"name\":\"position\",\"kind\":\"Any\",\"default\":\"bottom-right\"},{\"name\":\"_clear\",\"kind\":\"Any\",\"default\":0}]},{\"type\":\"model\",\"name\":\"NotificationArea1\",\"properties\":[{\"name\":\"js_events\",\"kind\":\"Any\",\"default\":{\"type\":\"map\"}},{\"name\":\"notifications\",\"kind\":\"Any\",\"default\":[]},{\"name\":\"position\",\"kind\":\"Any\",\"default\":\"bottom-right\"},{\"name\":\"_clear\",\"kind\":\"Any\",\"default\":0},{\"name\":\"types\",\"kind\":\"Any\",\"default\":[{\"type\":\"map\",\"entries\":[[\"type\",\"warning\"],[\"background\",\"#ffc107\"],[\"icon\",{\"type\":\"map\",\"entries\":[[\"className\",\"fas fa-exclamation-triangle\"],[\"tagName\",\"i\"],[\"color\",\"white\"]]}]]},{\"type\":\"map\",\"entries\":[[\"type\",\"info\"],[\"background\",\"#007bff\"],[\"icon\",{\"type\":\"map\",\"entries\":[[\"className\",\"fas fa-info-circle\"],[\"tagName\",\"i\"],[\"color\",\"white\"]]}]]}]}]},{\"type\":\"model\",\"name\":\"Notification\",\"properties\":[{\"name\":\"background\",\"kind\":\"Any\",\"default\":null},{\"name\":\"duration\",\"kind\":\"Any\",\"default\":3000},{\"name\":\"icon\",\"kind\":\"Any\",\"default\":null},{\"name\":\"message\",\"kind\":\"Any\",\"default\":\"\"},{\"name\":\"notification_type\",\"kind\":\"Any\",\"default\":null},{\"name\":\"_destroyed\",\"kind\":\"Any\",\"default\":false}]},{\"type\":\"model\",\"name\":\"TemplateActions1\",\"properties\":[{\"name\":\"open_modal\",\"kind\":\"Any\",\"default\":0},{\"name\":\"close_modal\",\"kind\":\"Any\",\"default\":0}]},{\"type\":\"model\",\"name\":\"BootstrapTemplateActions1\",\"properties\":[{\"name\":\"open_modal\",\"kind\":\"Any\",\"default\":0},{\"name\":\"close_modal\",\"kind\":\"Any\",\"default\":0}]},{\"type\":\"model\",\"name\":\"TemplateEditor1\",\"properties\":[{\"name\":\"layout\",\"kind\":\"Any\",\"default\":[]}]},{\"type\":\"model\",\"name\":\"MaterialTemplateActions1\",\"properties\":[{\"name\":\"open_modal\",\"kind\":\"Any\",\"default\":0},{\"name\":\"close_modal\",\"kind\":\"Any\",\"default\":0}]},{\"type\":\"model\",\"name\":\"ReactiveESM1\"},{\"type\":\"model\",\"name\":\"JSComponent1\"},{\"type\":\"model\",\"name\":\"ReactComponent1\"},{\"type\":\"model\",\"name\":\"AnyWidgetComponent1\"},{\"type\":\"model\",\"name\":\"request_value1\",\"properties\":[{\"name\":\"fill\",\"kind\":\"Any\",\"default\":\"none\"},{\"name\":\"_synced\",\"kind\":\"Any\",\"default\":null},{\"name\":\"_request_sync\",\"kind\":\"Any\",\"default\":0}]}]}};\n",
       "  var render_items = [{\"docid\":\"65ed600a-98f3-41dc-9d81-bcca6f0aeb22\",\"roots\":{\"p1255\":\"c299cf89-e82b-411a-b798-b8f9bdddae6e\"},\"root_ids\":[\"p1255\"]}];\n",
       "  var docs = Object.values(docs_json)\n",
       "  if (!docs) {\n",
       "    return\n",
       "  }\n",
       "  const py_version = docs[0].version.replace('rc', '-rc.').replace('.dev', '-dev.')\n",
       "  async function embed_document(root) {\n",
       "    var Bokeh = get_bokeh(root)\n",
       "    await Bokeh.embed.embed_items_notebook(docs_json, render_items);\n",
       "    for (const render_item of render_items) {\n",
       "      for (const root_id of render_item.root_ids) {\n",
       "\tconst id_el = document.getElementById(root_id)\n",
       "\tif (id_el.children.length && id_el.children[0].hasAttribute('data-root-id')) {\n",
       "\t  const root_el = id_el.children[0]\n",
       "\t  root_el.id = root_el.id + '-rendered'\n",
       "\t  for (const child of root_el.children) {\n",
       "            // Ensure JupyterLab does not capture keyboard shortcuts\n",
       "            // see: https://jupyterlab.readthedocs.io/en/4.1.x/extension/notebook.html#keyboard-interaction-model\n",
       "\t    child.setAttribute('data-lm-suppress-shortcuts', 'true')\n",
       "\t  }\n",
       "\t}\n",
       "      }\n",
       "    }\n",
       "  }\n",
       "  function get_bokeh(root) {\n",
       "    if (root.Bokeh === undefined) {\n",
       "      return null\n",
       "    } else if (root.Bokeh.version !== py_version) {\n",
       "      if (root.Bokeh.versions === undefined || !root.Bokeh.versions.has(py_version)) {\n",
       "\treturn null\n",
       "      }\n",
       "      return root.Bokeh.versions.get(py_version);\n",
       "    } else if (root.Bokeh.version === py_version) {\n",
       "      return root.Bokeh\n",
       "    }\n",
       "    return null\n",
       "  }\n",
       "  function is_loaded(root) {\n",
       "    var Bokeh = get_bokeh(root)\n",
       "    return (Bokeh != null && Bokeh.Panel !== undefined)\n",
       "  }\n",
       "  if (is_loaded(root)) {\n",
       "    embed_document(root);\n",
       "  } else {\n",
       "    var attempts = 0;\n",
       "    var timer = setInterval(function(root) {\n",
       "      if (is_loaded(root)) {\n",
       "        clearInterval(timer);\n",
       "        embed_document(root);\n",
       "      } else if (document.readyState == \"complete\") {\n",
       "        attempts++;\n",
       "        if (attempts > 200) {\n",
       "          clearInterval(timer);\n",
       "\t  var Bokeh = get_bokeh(root)\n",
       "\t  if (Bokeh == null || Bokeh.Panel == null) {\n",
       "            console.warn(\"Panel: ERROR: Unable to run Panel code because Bokeh or Panel library is missing\");\n",
       "\t  } else {\n",
       "\t    console.warn(\"Panel: WARNING: Attempting to render but not all required libraries could be resolved.\")\n",
       "\t    embed_document(root)\n",
       "\t  }\n",
       "        }\n",
       "      }\n",
       "    }, 25, root)\n",
       "  }\n",
       "})(window);</script>"
      ],
      "text/plain": [
       ":Overlay\n",
       "   .WMTS.I   :WMTS   [Longitude,Latitude]\n",
       "   .Points.I :Points   [Lng,Lat]   (City,Humidity)"
      ]
     },
     "execution_count": 9,
     "metadata": {
      "application/vnd.holoviews_exec.v0+json": {
       "id": "p1255"
      }
     },
     "output_type": "execute_result"
    }
   ],
   "source": [
    "%%capture --no-display\n",
    "\n",
    "# Configure the map plot\n",
    "city_map = city_data_df.hvplot.points(\n",
    "    \"Lng\",          # Longitude on x-axis\n",
    "    \"Lat\",          # Latitude on y-axis\n",
    "    size=\"Humidity\",# humidity for point size\n",
    "    geo=True,       # geographic plotting\n",
    "    tiles=\"OSM\",    # OpenStreetMap as background\n",
    "    color=\"City\",   # color for each city\n",
    "    alpha=0.6,      # point transparency\n",
    "    frame_width=800,\n",
    "    frame_height=500,\n",
    "    legend=True\n",
    ")\n",
    "\n",
    "# Display the map\n",
    "city_map"
   ]
  },
  {
   "cell_type": "markdown",
   "metadata": {},
   "source": [
    "### Step 2: Narrow down the `city_data_df` DataFrame to find your ideal weather condition"
   ]
  },
  {
   "cell_type": "code",
   "execution_count": 5,
   "metadata": {},
   "outputs": [
    {
     "data": {
      "application/vnd.microsoft.datawrangler.viewer.v0+json": {
       "columns": [
        {
         "name": "index",
         "rawType": "int64",
         "type": "integer"
        },
        {
         "name": "City_ID",
         "rawType": "int64",
         "type": "integer"
        },
        {
         "name": "City",
         "rawType": "object",
         "type": "string"
        },
        {
         "name": "Lat",
         "rawType": "float64",
         "type": "float"
        },
        {
         "name": "Lng",
         "rawType": "float64",
         "type": "float"
        },
        {
         "name": "Max Temp",
         "rawType": "float64",
         "type": "float"
        },
        {
         "name": "Humidity",
         "rawType": "int64",
         "type": "integer"
        },
        {
         "name": "Cloudiness",
         "rawType": "int64",
         "type": "integer"
        },
        {
         "name": "Wind Speed",
         "rawType": "float64",
         "type": "float"
        },
        {
         "name": "Country",
         "rawType": "object",
         "type": "string"
        },
        {
         "name": "Date",
         "rawType": "int64",
         "type": "integer"
        }
       ],
       "conversionMethod": "pd.DataFrame",
       "ref": "dd758e59-fa32-4fcb-a671-73bd862a9cd0",
       "rows": [
        [
         "12",
         "12",
         "broken hill",
         "-31.95",
         "141.4333",
         "25.35",
         "28",
         "0",
         "3.97",
         "AU",
         "1743560451"
        ],
        [
         "35",
         "35",
         "veraval",
         "20.9",
         "70.3667",
         "26.03",
         "39",
         "0",
         "2.84",
         "IN",
         "1743560477"
        ],
        [
         "109",
         "109",
         "morondava",
         "-20.2833",
         "44.2833",
         "25.14",
         "74",
         "0",
         "1.85",
         "MG",
         "1743560565"
        ],
        [
         "112",
         "112",
         "timimoun",
         "29.2639",
         "0.231",
         "21.21",
         "14",
         "0",
         "3.6",
         "DZ",
         "1743560470"
        ],
        [
         "204",
         "204",
         "rotonda west",
         "26.8837",
         "-82.2901",
         "24.47",
         "96",
         "0",
         "0.0",
         "US",
         "1743560677"
        ]
       ],
       "shape": {
        "columns": 10,
        "rows": 5
       }
      },
      "text/html": [
       "<div>\n",
       "<style scoped>\n",
       "    .dataframe tbody tr th:only-of-type {\n",
       "        vertical-align: middle;\n",
       "    }\n",
       "\n",
       "    .dataframe tbody tr th {\n",
       "        vertical-align: top;\n",
       "    }\n",
       "\n",
       "    .dataframe thead th {\n",
       "        text-align: right;\n",
       "    }\n",
       "</style>\n",
       "<table border=\"1\" class=\"dataframe\">\n",
       "  <thead>\n",
       "    <tr style=\"text-align: right;\">\n",
       "      <th></th>\n",
       "      <th>City_ID</th>\n",
       "      <th>City</th>\n",
       "      <th>Lat</th>\n",
       "      <th>Lng</th>\n",
       "      <th>Max Temp</th>\n",
       "      <th>Humidity</th>\n",
       "      <th>Cloudiness</th>\n",
       "      <th>Wind Speed</th>\n",
       "      <th>Country</th>\n",
       "      <th>Date</th>\n",
       "    </tr>\n",
       "  </thead>\n",
       "  <tbody>\n",
       "    <tr>\n",
       "      <th>12</th>\n",
       "      <td>12</td>\n",
       "      <td>broken hill</td>\n",
       "      <td>-31.9500</td>\n",
       "      <td>141.4333</td>\n",
       "      <td>25.35</td>\n",
       "      <td>28</td>\n",
       "      <td>0</td>\n",
       "      <td>3.97</td>\n",
       "      <td>AU</td>\n",
       "      <td>1743560451</td>\n",
       "    </tr>\n",
       "    <tr>\n",
       "      <th>35</th>\n",
       "      <td>35</td>\n",
       "      <td>veraval</td>\n",
       "      <td>20.9000</td>\n",
       "      <td>70.3667</td>\n",
       "      <td>26.03</td>\n",
       "      <td>39</td>\n",
       "      <td>0</td>\n",
       "      <td>2.84</td>\n",
       "      <td>IN</td>\n",
       "      <td>1743560477</td>\n",
       "    </tr>\n",
       "    <tr>\n",
       "      <th>109</th>\n",
       "      <td>109</td>\n",
       "      <td>morondava</td>\n",
       "      <td>-20.2833</td>\n",
       "      <td>44.2833</td>\n",
       "      <td>25.14</td>\n",
       "      <td>74</td>\n",
       "      <td>0</td>\n",
       "      <td>1.85</td>\n",
       "      <td>MG</td>\n",
       "      <td>1743560565</td>\n",
       "    </tr>\n",
       "    <tr>\n",
       "      <th>112</th>\n",
       "      <td>112</td>\n",
       "      <td>timimoun</td>\n",
       "      <td>29.2639</td>\n",
       "      <td>0.2310</td>\n",
       "      <td>21.21</td>\n",
       "      <td>14</td>\n",
       "      <td>0</td>\n",
       "      <td>3.60</td>\n",
       "      <td>DZ</td>\n",
       "      <td>1743560470</td>\n",
       "    </tr>\n",
       "    <tr>\n",
       "      <th>204</th>\n",
       "      <td>204</td>\n",
       "      <td>rotonda west</td>\n",
       "      <td>26.8837</td>\n",
       "      <td>-82.2901</td>\n",
       "      <td>24.47</td>\n",
       "      <td>96</td>\n",
       "      <td>0</td>\n",
       "      <td>0.00</td>\n",
       "      <td>US</td>\n",
       "      <td>1743560677</td>\n",
       "    </tr>\n",
       "  </tbody>\n",
       "</table>\n",
       "</div>"
      ],
      "text/plain": [
       "     City_ID          City      Lat       Lng  Max Temp  Humidity  Cloudiness  \\\n",
       "12        12   broken hill -31.9500  141.4333     25.35        28           0   \n",
       "35        35       veraval  20.9000   70.3667     26.03        39           0   \n",
       "109      109     morondava -20.2833   44.2833     25.14        74           0   \n",
       "112      112      timimoun  29.2639    0.2310     21.21        14           0   \n",
       "204      204  rotonda west  26.8837  -82.2901     24.47        96           0   \n",
       "\n",
       "     Wind Speed Country        Date  \n",
       "12         3.97      AU  1743560451  \n",
       "35         2.84      IN  1743560477  \n",
       "109        1.85      MG  1743560565  \n",
       "112        3.60      DZ  1743560470  \n",
       "204        0.00      US  1743560677  "
      ]
     },
     "execution_count": 5,
     "metadata": {},
     "output_type": "execute_result"
    }
   ],
   "source": [
    "# Narrow down cities that fit criteria and drop any results with null values\n",
    "ideal_weather_df = city_data_df[\n",
    "    (city_data_df[\"Max Temp\"] >= 21) &\n",
    "    (city_data_df[\"Max Temp\"] <= 27) &\n",
    "    (city_data_df[\"Cloudiness\"] == 0) &\n",
    "    (city_data_df[\"Wind Speed\"] < 4)\n",
    "]\n",
    "\n",
    "# Drop any rows with null values\n",
    "ideal_weather_df = ideal_weather_df.dropna()\n",
    "\n",
    "# Display sample data\n",
    "ideal_weather_df.head()"
   ]
  },
  {
   "cell_type": "markdown",
   "metadata": {},
   "source": [
    "### Step 3: Create a new DataFrame called `hotel_df`."
   ]
  },
  {
   "cell_type": "code",
   "execution_count": 6,
   "metadata": {},
   "outputs": [
    {
     "data": {
      "application/vnd.microsoft.datawrangler.viewer.v0+json": {
       "columns": [
        {
         "name": "index",
         "rawType": "int64",
         "type": "integer"
        },
        {
         "name": "City",
         "rawType": "object",
         "type": "string"
        },
        {
         "name": "Country",
         "rawType": "object",
         "type": "string"
        },
        {
         "name": "Lat",
         "rawType": "float64",
         "type": "float"
        },
        {
         "name": "Lng",
         "rawType": "float64",
         "type": "float"
        },
        {
         "name": "Humidity",
         "rawType": "int64",
         "type": "integer"
        },
        {
         "name": "Hotel Name",
         "rawType": "object",
         "type": "string"
        }
       ],
       "conversionMethod": "pd.DataFrame",
       "ref": "e0524d30-d3b5-45ee-94a4-007a32a4994f",
       "rows": [
        [
         "12",
         "broken hill",
         "AU",
         "-31.95",
         "141.4333",
         "28",
         ""
        ],
        [
         "35",
         "veraval",
         "IN",
         "20.9",
         "70.3667",
         "39",
         ""
        ],
        [
         "109",
         "morondava",
         "MG",
         "-20.2833",
         "44.2833",
         "74",
         ""
        ],
        [
         "112",
         "timimoun",
         "DZ",
         "29.2639",
         "0.231",
         "14",
         ""
        ],
        [
         "204",
         "rotonda west",
         "US",
         "26.8837",
         "-82.2901",
         "96",
         ""
        ]
       ],
       "shape": {
        "columns": 6,
        "rows": 5
       }
      },
      "text/html": [
       "<div>\n",
       "<style scoped>\n",
       "    .dataframe tbody tr th:only-of-type {\n",
       "        vertical-align: middle;\n",
       "    }\n",
       "\n",
       "    .dataframe tbody tr th {\n",
       "        vertical-align: top;\n",
       "    }\n",
       "\n",
       "    .dataframe thead th {\n",
       "        text-align: right;\n",
       "    }\n",
       "</style>\n",
       "<table border=\"1\" class=\"dataframe\">\n",
       "  <thead>\n",
       "    <tr style=\"text-align: right;\">\n",
       "      <th></th>\n",
       "      <th>City</th>\n",
       "      <th>Country</th>\n",
       "      <th>Lat</th>\n",
       "      <th>Lng</th>\n",
       "      <th>Humidity</th>\n",
       "      <th>Hotel Name</th>\n",
       "    </tr>\n",
       "  </thead>\n",
       "  <tbody>\n",
       "    <tr>\n",
       "      <th>12</th>\n",
       "      <td>broken hill</td>\n",
       "      <td>AU</td>\n",
       "      <td>-31.9500</td>\n",
       "      <td>141.4333</td>\n",
       "      <td>28</td>\n",
       "      <td></td>\n",
       "    </tr>\n",
       "    <tr>\n",
       "      <th>35</th>\n",
       "      <td>veraval</td>\n",
       "      <td>IN</td>\n",
       "      <td>20.9000</td>\n",
       "      <td>70.3667</td>\n",
       "      <td>39</td>\n",
       "      <td></td>\n",
       "    </tr>\n",
       "    <tr>\n",
       "      <th>109</th>\n",
       "      <td>morondava</td>\n",
       "      <td>MG</td>\n",
       "      <td>-20.2833</td>\n",
       "      <td>44.2833</td>\n",
       "      <td>74</td>\n",
       "      <td></td>\n",
       "    </tr>\n",
       "    <tr>\n",
       "      <th>112</th>\n",
       "      <td>timimoun</td>\n",
       "      <td>DZ</td>\n",
       "      <td>29.2639</td>\n",
       "      <td>0.2310</td>\n",
       "      <td>14</td>\n",
       "      <td></td>\n",
       "    </tr>\n",
       "    <tr>\n",
       "      <th>204</th>\n",
       "      <td>rotonda west</td>\n",
       "      <td>US</td>\n",
       "      <td>26.8837</td>\n",
       "      <td>-82.2901</td>\n",
       "      <td>96</td>\n",
       "      <td></td>\n",
       "    </tr>\n",
       "  </tbody>\n",
       "</table>\n",
       "</div>"
      ],
      "text/plain": [
       "             City Country      Lat       Lng  Humidity Hotel Name\n",
       "12    broken hill      AU -31.9500  141.4333        28           \n",
       "35        veraval      IN  20.9000   70.3667        39           \n",
       "109     morondava      MG -20.2833   44.2833        74           \n",
       "112      timimoun      DZ  29.2639    0.2310        14           \n",
       "204  rotonda west      US  26.8837  -82.2901        96           "
      ]
     },
     "execution_count": 6,
     "metadata": {},
     "output_type": "execute_result"
    }
   ],
   "source": [
    "# Use the Pandas copy function to create DataFrame called hotel_df to store the city, country, coordinates, and humidity\n",
    "hotel_df = ideal_weather_df[[\"City\", \"Country\", \"Lat\", \"Lng\", \"Humidity\"]].copy()\n",
    "\n",
    "# Add an empty column, \"Hotel Name,\" to the DataFrame so you can store the hotel found using the Geoapify API\n",
    "hotel_df[\"Hotel Name\"] = \"\"\n",
    "\n",
    "# Display sample data\n",
    "hotel_df.head()"
   ]
  },
  {
   "cell_type": "markdown",
   "metadata": {},
   "source": [
    "### Step 4: For each city, use the Geoapify API to find the first hotel located within 10,000 metres of your coordinates."
   ]
  },
  {
   "cell_type": "code",
   "execution_count": 7,
   "metadata": {},
   "outputs": [
    {
     "name": "stdout",
     "output_type": "stream",
     "text": [
      "Starting hotel search\n",
      "broken hill - nearest hotel: Ibis Styles\n",
      "veraval - nearest hotel: Shyam\n",
      "morondava - nearest hotel: Hotel Sharon Menabe\n",
      "timimoun - nearest hotel: أناف\n",
      "rotonda west - nearest hotel: Sea Oats Beach Club\n",
      "turabah - nearest hotel: No hotel found\n",
      "toliara - nearest hotel: Ambary\n",
      "jawf al maqbabah - nearest hotel: فندق لودر\n",
      "umarkot - nearest hotel: No hotel found\n",
      "salalah - nearest hotel: Muscat International Hotel\n",
      "salumbar - nearest hotel: Swagat Guest House\n",
      "beroroha - nearest hotel: No hotel found\n",
      "rio de janeiro - nearest hotel: Ibis Rio porto atlantico\n"
     ]
    },
    {
     "data": {
      "application/vnd.microsoft.datawrangler.viewer.v0+json": {
       "columns": [
        {
         "name": "index",
         "rawType": "int64",
         "type": "integer"
        },
        {
         "name": "City",
         "rawType": "object",
         "type": "string"
        },
        {
         "name": "Country",
         "rawType": "object",
         "type": "string"
        },
        {
         "name": "Lat",
         "rawType": "float64",
         "type": "float"
        },
        {
         "name": "Lng",
         "rawType": "float64",
         "type": "float"
        },
        {
         "name": "Humidity",
         "rawType": "int64",
         "type": "integer"
        },
        {
         "name": "Hotel Name",
         "rawType": "object",
         "type": "string"
        }
       ],
       "conversionMethod": "pd.DataFrame",
       "ref": "30469b12-fb3d-469e-ba73-3ff300a31b95",
       "rows": [
        [
         "12",
         "broken hill",
         "AU",
         "-31.95",
         "141.4333",
         "28",
         "Ibis Styles"
        ],
        [
         "35",
         "veraval",
         "IN",
         "20.9",
         "70.3667",
         "39",
         "Shyam"
        ],
        [
         "109",
         "morondava",
         "MG",
         "-20.2833",
         "44.2833",
         "74",
         "Hotel Sharon Menabe"
        ],
        [
         "112",
         "timimoun",
         "DZ",
         "29.2639",
         "0.231",
         "14",
         "أناف"
        ],
        [
         "204",
         "rotonda west",
         "US",
         "26.8837",
         "-82.2901",
         "96",
         "Sea Oats Beach Club"
        ],
        [
         "280",
         "turabah",
         "SA",
         "21.2141",
         "41.6331",
         "22",
         "No hotel found"
        ],
        [
         "310",
         "toliara",
         "MG",
         "-23.35",
         "43.6667",
         "69",
         "Ambary"
        ],
        [
         "326",
         "jawf al maqbabah",
         "YE",
         "13.8378",
         "45.8349",
         "59",
         "فندق لودر"
        ],
        [
         "379",
         "umarkot",
         "PK",
         "25.3616",
         "69.7362",
         "13",
         "No hotel found"
        ],
        [
         "409",
         "salalah",
         "OM",
         "17.0151",
         "54.0924",
         "60",
         "Muscat International Hotel"
        ],
        [
         "454",
         "salumbar",
         "IN",
         "24.1333",
         "74.05",
         "12",
         "Swagat Guest House"
        ],
        [
         "507",
         "beroroha",
         "MG",
         "-21.6667",
         "45.1667",
         "89",
         "No hotel found"
        ],
        [
         "553",
         "rio de janeiro",
         "BR",
         "-22.9028",
         "-43.2075",
         "88",
         "Ibis Rio porto atlantico"
        ]
       ],
       "shape": {
        "columns": 6,
        "rows": 13
       }
      },
      "text/html": [
       "<div>\n",
       "<style scoped>\n",
       "    .dataframe tbody tr th:only-of-type {\n",
       "        vertical-align: middle;\n",
       "    }\n",
       "\n",
       "    .dataframe tbody tr th {\n",
       "        vertical-align: top;\n",
       "    }\n",
       "\n",
       "    .dataframe thead th {\n",
       "        text-align: right;\n",
       "    }\n",
       "</style>\n",
       "<table border=\"1\" class=\"dataframe\">\n",
       "  <thead>\n",
       "    <tr style=\"text-align: right;\">\n",
       "      <th></th>\n",
       "      <th>City</th>\n",
       "      <th>Country</th>\n",
       "      <th>Lat</th>\n",
       "      <th>Lng</th>\n",
       "      <th>Humidity</th>\n",
       "      <th>Hotel Name</th>\n",
       "    </tr>\n",
       "  </thead>\n",
       "  <tbody>\n",
       "    <tr>\n",
       "      <th>12</th>\n",
       "      <td>broken hill</td>\n",
       "      <td>AU</td>\n",
       "      <td>-31.9500</td>\n",
       "      <td>141.4333</td>\n",
       "      <td>28</td>\n",
       "      <td>Ibis Styles</td>\n",
       "    </tr>\n",
       "    <tr>\n",
       "      <th>35</th>\n",
       "      <td>veraval</td>\n",
       "      <td>IN</td>\n",
       "      <td>20.9000</td>\n",
       "      <td>70.3667</td>\n",
       "      <td>39</td>\n",
       "      <td>Shyam</td>\n",
       "    </tr>\n",
       "    <tr>\n",
       "      <th>109</th>\n",
       "      <td>morondava</td>\n",
       "      <td>MG</td>\n",
       "      <td>-20.2833</td>\n",
       "      <td>44.2833</td>\n",
       "      <td>74</td>\n",
       "      <td>Hotel Sharon Menabe</td>\n",
       "    </tr>\n",
       "    <tr>\n",
       "      <th>112</th>\n",
       "      <td>timimoun</td>\n",
       "      <td>DZ</td>\n",
       "      <td>29.2639</td>\n",
       "      <td>0.2310</td>\n",
       "      <td>14</td>\n",
       "      <td>أناف</td>\n",
       "    </tr>\n",
       "    <tr>\n",
       "      <th>204</th>\n",
       "      <td>rotonda west</td>\n",
       "      <td>US</td>\n",
       "      <td>26.8837</td>\n",
       "      <td>-82.2901</td>\n",
       "      <td>96</td>\n",
       "      <td>Sea Oats Beach Club</td>\n",
       "    </tr>\n",
       "    <tr>\n",
       "      <th>280</th>\n",
       "      <td>turabah</td>\n",
       "      <td>SA</td>\n",
       "      <td>21.2141</td>\n",
       "      <td>41.6331</td>\n",
       "      <td>22</td>\n",
       "      <td>No hotel found</td>\n",
       "    </tr>\n",
       "    <tr>\n",
       "      <th>310</th>\n",
       "      <td>toliara</td>\n",
       "      <td>MG</td>\n",
       "      <td>-23.3500</td>\n",
       "      <td>43.6667</td>\n",
       "      <td>69</td>\n",
       "      <td>Ambary</td>\n",
       "    </tr>\n",
       "    <tr>\n",
       "      <th>326</th>\n",
       "      <td>jawf al maqbabah</td>\n",
       "      <td>YE</td>\n",
       "      <td>13.8378</td>\n",
       "      <td>45.8349</td>\n",
       "      <td>59</td>\n",
       "      <td>فندق لودر</td>\n",
       "    </tr>\n",
       "    <tr>\n",
       "      <th>379</th>\n",
       "      <td>umarkot</td>\n",
       "      <td>PK</td>\n",
       "      <td>25.3616</td>\n",
       "      <td>69.7362</td>\n",
       "      <td>13</td>\n",
       "      <td>No hotel found</td>\n",
       "    </tr>\n",
       "    <tr>\n",
       "      <th>409</th>\n",
       "      <td>salalah</td>\n",
       "      <td>OM</td>\n",
       "      <td>17.0151</td>\n",
       "      <td>54.0924</td>\n",
       "      <td>60</td>\n",
       "      <td>Muscat International Hotel</td>\n",
       "    </tr>\n",
       "    <tr>\n",
       "      <th>454</th>\n",
       "      <td>salumbar</td>\n",
       "      <td>IN</td>\n",
       "      <td>24.1333</td>\n",
       "      <td>74.0500</td>\n",
       "      <td>12</td>\n",
       "      <td>Swagat Guest House</td>\n",
       "    </tr>\n",
       "    <tr>\n",
       "      <th>507</th>\n",
       "      <td>beroroha</td>\n",
       "      <td>MG</td>\n",
       "      <td>-21.6667</td>\n",
       "      <td>45.1667</td>\n",
       "      <td>89</td>\n",
       "      <td>No hotel found</td>\n",
       "    </tr>\n",
       "    <tr>\n",
       "      <th>553</th>\n",
       "      <td>rio de janeiro</td>\n",
       "      <td>BR</td>\n",
       "      <td>-22.9028</td>\n",
       "      <td>-43.2075</td>\n",
       "      <td>88</td>\n",
       "      <td>Ibis Rio porto atlantico</td>\n",
       "    </tr>\n",
       "  </tbody>\n",
       "</table>\n",
       "</div>"
      ],
      "text/plain": [
       "                 City Country      Lat       Lng  Humidity  \\\n",
       "12        broken hill      AU -31.9500  141.4333        28   \n",
       "35            veraval      IN  20.9000   70.3667        39   \n",
       "109         morondava      MG -20.2833   44.2833        74   \n",
       "112          timimoun      DZ  29.2639    0.2310        14   \n",
       "204      rotonda west      US  26.8837  -82.2901        96   \n",
       "280           turabah      SA  21.2141   41.6331        22   \n",
       "310           toliara      MG -23.3500   43.6667        69   \n",
       "326  jawf al maqbabah      YE  13.8378   45.8349        59   \n",
       "379           umarkot      PK  25.3616   69.7362        13   \n",
       "409           salalah      OM  17.0151   54.0924        60   \n",
       "454          salumbar      IN  24.1333   74.0500        12   \n",
       "507          beroroha      MG -21.6667   45.1667        89   \n",
       "553    rio de janeiro      BR -22.9028  -43.2075        88   \n",
       "\n",
       "                     Hotel Name  \n",
       "12                  Ibis Styles  \n",
       "35                        Shyam  \n",
       "109         Hotel Sharon Menabe  \n",
       "112                        أناف  \n",
       "204         Sea Oats Beach Club  \n",
       "280              No hotel found  \n",
       "310                      Ambary  \n",
       "326                   فندق لودر  \n",
       "379              No hotel found  \n",
       "409  Muscat International Hotel  \n",
       "454          Swagat Guest House  \n",
       "507              No hotel found  \n",
       "553    Ibis Rio porto atlantico  "
      ]
     },
     "execution_count": 7,
     "metadata": {},
     "output_type": "execute_result"
    }
   ],
   "source": [
    "# Set parameters to search for a hotel\n",
    "radius = 10000 #meters\n",
    "params = {\n",
    "    \"categories\": \"accommodation.hotel\",\n",
    "    \"limit\": 1,\n",
    "    \"apiKey\": geoapify_key\n",
    "}\n",
    "\n",
    "# Print a message to follow up the hotel search\n",
    "print(\"Starting hotel search\")\n",
    "\n",
    "# Iterate through the hotel_df DataFrame\n",
    "for index, row in hotel_df.iterrows():\n",
    "    # get latitude, longitude from the DataFrame\n",
    "    lat = row[\"Lat\"]\n",
    "    lon = row[\"Lng\"]\n",
    "\n",
    "    # Add the current city's latitude and longitude to the params dictionary\n",
    "    params[\"filter\"] = f\"circle:{lon},{lat},{radius}\"\n",
    "    params[\"bias\"] = f\"proximity:{lon},{lat}\"\n",
    "\n",
    "    # Set base URL\n",
    "    base_url = \"https://api.geoapify.com/v2/places\"\n",
    "\n",
    "    # Make and API request using the params dictionary\n",
    "    response = requests.get(base_url, params=params)\n",
    "\n",
    "    # Convert the API response to JSON format\n",
    "    name_address = response.json()\n",
    "\n",
    "    # Grab the first hotel from the results and store the name in the hotel_df DataFrame\n",
    "    try:\n",
    "        hotel_df.loc[index, \"Hotel Name\"] = name_address[\"features\"][0][\"properties\"][\"name\"]\n",
    "    except (KeyError, IndexError):\n",
    "        # If no hotel is found, set the hotel name as \"No hotel found\".\n",
    "        hotel_df.loc[index, \"Hotel Name\"] = \"No hotel found\"\n",
    "\n",
    "    # Log the search results\n",
    "    print(f\"{hotel_df.loc[index, 'City']} - nearest hotel: {hotel_df.loc[index, 'Hotel Name']}\")\n",
    "\n",
    "# Display sample data\n",
    "hotel_df"
   ]
  },
  {
   "cell_type": "markdown",
   "metadata": {},
   "source": [
    "### Step 5: Add the hotel name and the country as additional information in the hover message for each city in the map."
   ]
  },
  {
   "cell_type": "code",
   "execution_count": 10,
   "metadata": {},
   "outputs": [
    {
     "data": {},
     "metadata": {},
     "output_type": "display_data"
    },
    {
     "data": {
      "application/vnd.holoviews_exec.v0+json": "",
      "text/html": [
       "<div id='p1377'>\n",
       "  <div id=\"d3a80c34-1721-4893-9533-85918ad44ce6\" data-root-id=\"p1377\" style=\"display: contents;\"></div>\n",
       "</div>\n",
       "<script type=\"application/javascript\">(function(root) {\n",
       "  var docs_json = {\"ac05f2f1-61c6-49bc-8ccd-5f07a432ca7a\":{\"version\":\"3.6.0\",\"title\":\"Bokeh Application\",\"roots\":[{\"type\":\"object\",\"name\":\"Row\",\"id\":\"p1377\",\"attributes\":{\"name\":\"Row02109\",\"tags\":[\"embedded\"],\"stylesheets\":[\"\\n:host(.pn-loading):before, .pn-loading:before {\\n  background-color: #c3c3c3;\\n  mask-size: auto calc(min(50%, 400px));\\n  -webkit-mask-size: auto calc(min(50%, 400px));\\n}\",{\"type\":\"object\",\"name\":\"ImportedStyleSheet\",\"id\":\"p1380\",\"attributes\":{\"url\":\"https://cdn.holoviz.org/panel/1.5.2/dist/css/loading.css\"}},{\"type\":\"object\",\"name\":\"ImportedStyleSheet\",\"id\":\"p1493\",\"attributes\":{\"url\":\"https://cdn.holoviz.org/panel/1.5.2/dist/css/listpanel.css\"}},{\"type\":\"object\",\"name\":\"ImportedStyleSheet\",\"id\":\"p1378\",\"attributes\":{\"url\":\"https://cdn.holoviz.org/panel/1.5.2/dist/bundled/theme/default.css\"}},{\"type\":\"object\",\"name\":\"ImportedStyleSheet\",\"id\":\"p1379\",\"attributes\":{\"url\":\"https://cdn.holoviz.org/panel/1.5.2/dist/bundled/theme/native.css\"}}],\"margin\":0,\"sizing_mode\":\"stretch_width\",\"align\":\"start\",\"children\":[{\"type\":\"object\",\"name\":\"Spacer\",\"id\":\"p1381\",\"attributes\":{\"name\":\"HSpacer02115\",\"stylesheets\":[\"\\n:host(.pn-loading):before, .pn-loading:before {\\n  background-color: #c3c3c3;\\n  mask-size: auto calc(min(50%, 400px));\\n  -webkit-mask-size: auto calc(min(50%, 400px));\\n}\",{\"id\":\"p1380\"},{\"id\":\"p1378\"},{\"id\":\"p1379\"}],\"margin\":0,\"sizing_mode\":\"stretch_width\",\"align\":\"start\"}},{\"type\":\"object\",\"name\":\"Figure\",\"id\":\"p1434\",\"attributes\":{\"width\":null,\"height\":null,\"margin\":[5,10],\"sizing_mode\":\"fixed\",\"align\":\"start\",\"x_range\":{\"type\":\"object\",\"name\":\"Range1d\",\"id\":\"p1397\",\"attributes\":{\"tags\":[[[\"Longitude\",null]],[]],\"start\":-10717040.339501923,\"end\":17300831.247386687,\"reset_start\":-10717040.339501923,\"reset_end\":17300831.247386687,\"min_interval\":5}},\"y_range\":{\"type\":\"object\",\"name\":\"Range1d\",\"id\":\"p1398\",\"attributes\":{\"tags\":[[[\"Latitude\",null]],{\"type\":\"map\",\"entries\":[[\"invert_yaxis\",false],[\"autorange\",false]]}],\"start\":-8929320.607475374,\"end\":8581849.134330008,\"reset_start\":-8929320.607475374,\"reset_end\":8581849.134330008,\"min_interval\":5}},\"x_scale\":{\"type\":\"object\",\"name\":\"LinearScale\",\"id\":\"p1444\"},\"y_scale\":{\"type\":\"object\",\"name\":\"LinearScale\",\"id\":\"p1445\"},\"title\":{\"type\":\"object\",\"name\":\"Title\",\"id\":\"p1437\",\"attributes\":{\"text_color\":\"black\",\"text_font_size\":\"12pt\"}},\"renderers\":[{\"type\":\"object\",\"name\":\"TileRenderer\",\"id\":\"p1467\",\"attributes\":{\"level\":\"underlay\",\"tile_source\":{\"type\":\"object\",\"name\":\"WMTSTileSource\",\"id\":\"p1463\",\"attributes\":{\"url\":\"https://c.tile.openstreetmap.org/{Z}/{X}/{Y}.png\",\"attribution\":\"&copy; <a href=\\\"https://www.openstreetmap.org/copyright\\\">OpenStreetMap</a> contributors\"}}}},{\"type\":\"object\",\"name\":\"GlyphRenderer\",\"id\":\"p1483\",\"attributes\":{\"name\":\"color\",\"data_source\":{\"type\":\"object\",\"name\":\"ColumnDataSource\",\"id\":\"p1472\",\"attributes\":{\"selected\":{\"type\":\"object\",\"name\":\"Selection\",\"id\":\"p1473\",\"attributes\":{\"indices\":[],\"line_indices\":[]}},\"selection_policy\":{\"type\":\"object\",\"name\":\"UnionRenderers\",\"id\":\"p1474\"},\"data\":{\"type\":\"map\",\"entries\":[[\"Lng\",{\"type\":\"ndarray\",\"array\":{\"type\":\"bytes\",\"data\":\"x6T9XaMHbkHHkJ5NmOFdQRB8BpoOzlJBAlEVWrMc2UBtQPCA5XhhwadPf9/zrVFBP3nAswaLUkHIvKBuu3ZTQVjjhpENnV1BtU8fm2j4VkHWecQSAnJfQYk13oIXLlNBDTaAORtZUsE=\"},\"shape\":[13],\"dtype\":\"float64\",\"order\":\"little\"}],[\"Lat\",{\"type\":\"ndarray\",\"array\":{\"type\":\"bytes\",\"data\":\"26evkWapTMHjMUtSWyhCQadXYwkfmUHBewOq1L4CSkHQwsKMKrhHQWPfUw6JcUJBxsjXOXBnRMGNVEhOnrw3QRaBWmiQR0ZBwVsE1xZWPUEvDifdfSFFQaDGqKhB20LBdo1OFbb9Q8E=\"},\"shape\":[13],\"dtype\":\"float64\",\"order\":\"little\"}],[\"City\",[\"broken hill\",\"veraval\",\"morondava\",\"timimoun\",\"rotonda west\",\"turabah\",\"toliara\",\"jawf al maqbabah\",\"umarkot\",\"salalah\",\"salumbar\",\"beroroha\",\"rio de janeiro\"]],[\"Humidity\",{\"type\":\"ndarray\",\"array\":{\"type\":\"bytes\",\"data\":\"HAAAACcAAABKAAAADgAAAGAAAAAWAAAARQAAADsAAAANAAAAPAAAAAwAAABZAAAAWAAAAA==\"},\"shape\":[13],\"dtype\":\"int32\",\"order\":\"little\"}],[\"Country\",[\"AU\",\"IN\",\"MG\",\"DZ\",\"US\",\"SA\",\"MG\",\"YE\",\"PK\",\"OM\",\"IN\",\"MG\",\"BR\"]],[\"Hotel_Name\",[\"Ibis Styles\",\"Shyam\",\"Hotel Sharon Menabe\",\"\\u0623\\u0646\\u0627\\u0641\",\"Sea Oats Beach Club\",\"No hotel found\",\"Ambary\",\"\\u0641\\u0646\\u062f\\u0642 \\u0644\\u0648\\u062f\\u0631\",\"No hotel found\",\"Muscat International Hotel\",\"Swagat Guest House\",\"No hotel found\",\"Ibis Rio porto atlantico\"]],[\"color\",[\"broken hill\",\"veraval\",\"morondava\",\"timimoun\",\"rotonda west\",\"turabah\",\"toliara\",\"jawf al maqbabah\",\"umarkot\",\"salalah\",\"salumbar\",\"beroroha\",\"rio de janeiro\"]],[\"size\",{\"type\":\"ndarray\",\"array\":{\"type\":\"bytes\",\"data\":\"6vjSqX8qFUCK01rB4PoYQE4BN/pjNCFAST9oEeruDUAuIQkUjpgjQKdWVFn8whJACdCOzf2cIEDbnltFfrkeQPNZYUQr2AxA2k5Psd77HkCqTFjoerYLQEGHYsYy3iJAp1ZUWfzCIkA=\"},\"shape\":[13],\"dtype\":\"float64\",\"order\":\"little\"}]]}}},\"view\":{\"type\":\"object\",\"name\":\"CDSView\",\"id\":\"p1484\",\"attributes\":{\"filter\":{\"type\":\"object\",\"name\":\"AllIndices\",\"id\":\"p1485\"}}},\"glyph\":{\"type\":\"object\",\"name\":\"Scatter\",\"id\":\"p1478\",\"attributes\":{\"tags\":[\"apply_ranges\"],\"x\":{\"type\":\"field\",\"field\":\"Lng\"},\"y\":{\"type\":\"field\",\"field\":\"Lat\"},\"size\":{\"type\":\"field\",\"field\":\"size\"},\"line_color\":{\"type\":\"field\",\"field\":\"color\",\"transform\":{\"type\":\"object\",\"name\":\"CategoricalColorMapper\",\"id\":\"p1471\",\"attributes\":{\"palette\":[\"#1f77b3\",\"#ff7e0e\",\"#2ba02b\",\"#d62628\",\"#9367bc\",\"#8c564b\",\"#e277c1\",\"#7e7e7e\",\"#bcbc21\",\"#16bdcf\",\"#3a0182\",\"#004201\",\"#0fffa8\"],\"factors\":[\"broken hill\",\"veraval\",\"morondava\",\"timimoun\",\"rotonda west\",\"turabah\",\"toliara\",\"jawf al maqbabah\",\"umarkot\",\"salalah\",\"salumbar\",\"beroroha\",\"rio de janeiro\"]}}},\"line_alpha\":{\"type\":\"value\",\"value\":0.7},\"fill_color\":{\"type\":\"field\",\"field\":\"color\",\"transform\":{\"id\":\"p1471\"}},\"fill_alpha\":{\"type\":\"value\",\"value\":0.7},\"hatch_color\":{\"type\":\"field\",\"field\":\"color\",\"transform\":{\"id\":\"p1471\"}},\"hatch_alpha\":{\"type\":\"value\",\"value\":0.7}}},\"selection_glyph\":{\"type\":\"object\",\"name\":\"Scatter\",\"id\":\"p1480\",\"attributes\":{\"tags\":[\"apply_ranges\"],\"x\":{\"type\":\"field\",\"field\":\"Lng\"},\"y\":{\"type\":\"field\",\"field\":\"Lat\"},\"size\":{\"type\":\"field\",\"field\":\"size\"},\"line_color\":{\"type\":\"field\",\"field\":\"color\",\"transform\":{\"id\":\"p1471\"}},\"line_alpha\":{\"type\":\"value\",\"value\":0.7},\"fill_color\":{\"type\":\"field\",\"field\":\"color\",\"transform\":{\"id\":\"p1471\"}},\"fill_alpha\":{\"type\":\"value\",\"value\":0.7},\"hatch_color\":{\"type\":\"field\",\"field\":\"color\",\"transform\":{\"id\":\"p1471\"}},\"hatch_alpha\":{\"type\":\"value\",\"value\":0.7}}},\"nonselection_glyph\":{\"type\":\"object\",\"name\":\"Scatter\",\"id\":\"p1479\",\"attributes\":{\"tags\":[\"apply_ranges\"],\"x\":{\"type\":\"field\",\"field\":\"Lng\"},\"y\":{\"type\":\"field\",\"field\":\"Lat\"},\"size\":{\"type\":\"field\",\"field\":\"size\"},\"line_color\":{\"type\":\"field\",\"field\":\"color\",\"transform\":{\"id\":\"p1471\"}},\"line_alpha\":{\"type\":\"value\",\"value\":0.7},\"fill_color\":{\"type\":\"field\",\"field\":\"color\",\"transform\":{\"id\":\"p1471\"}},\"fill_alpha\":{\"type\":\"value\",\"value\":0.7},\"hatch_color\":{\"type\":\"field\",\"field\":\"color\",\"transform\":{\"id\":\"p1471\"}},\"hatch_alpha\":{\"type\":\"value\",\"value\":0.1}}},\"hover_glyph\":{\"type\":\"object\",\"name\":\"Scatter\",\"id\":\"p1481\",\"attributes\":{\"tags\":[\"apply_ranges\"],\"x\":{\"type\":\"field\",\"field\":\"Lng\"},\"y\":{\"type\":\"field\",\"field\":\"Lat\"},\"size\":{\"type\":\"field\",\"field\":\"size\"},\"line_color\":{\"type\":\"field\",\"field\":\"color\",\"transform\":{\"id\":\"p1471\"}},\"line_alpha\":{\"type\":\"value\",\"value\":0.7},\"fill_color\":{\"type\":\"field\",\"field\":\"color\",\"transform\":{\"id\":\"p1471\"}},\"fill_alpha\":{\"type\":\"value\",\"value\":0.7},\"hatch_color\":{\"type\":\"field\",\"field\":\"color\",\"transform\":{\"id\":\"p1471\"}},\"hatch_alpha\":{\"type\":\"value\",\"value\":0.7}}},\"muted_glyph\":{\"type\":\"object\",\"name\":\"Scatter\",\"id\":\"p1482\",\"attributes\":{\"tags\":[\"apply_ranges\"],\"x\":{\"type\":\"field\",\"field\":\"Lng\"},\"y\":{\"type\":\"field\",\"field\":\"Lat\"},\"size\":{\"type\":\"field\",\"field\":\"size\"},\"line_color\":{\"type\":\"field\",\"field\":\"color\",\"transform\":{\"id\":\"p1471\"}},\"line_alpha\":{\"type\":\"value\",\"value\":0.2},\"fill_color\":{\"type\":\"field\",\"field\":\"color\",\"transform\":{\"id\":\"p1471\"}},\"fill_alpha\":{\"type\":\"value\",\"value\":0.2},\"hatch_color\":{\"type\":\"field\",\"field\":\"color\",\"transform\":{\"id\":\"p1471\"}},\"hatch_alpha\":{\"type\":\"value\",\"value\":0.2}}}}}],\"toolbar\":{\"type\":\"object\",\"name\":\"Toolbar\",\"id\":\"p1443\",\"attributes\":{\"tools\":[{\"type\":\"object\",\"name\":\"WheelZoomTool\",\"id\":\"p1401\",\"attributes\":{\"renderers\":\"auto\",\"zoom_on_axis\":false}},{\"type\":\"object\",\"name\":\"BoxZoomTool\",\"id\":\"p1409\",\"attributes\":{\"overlay\":{\"type\":\"object\",\"name\":\"BoxAnnotation\",\"id\":\"p1402\",\"attributes\":{\"syncable\":false,\"line_color\":\"black\",\"line_alpha\":1.0,\"line_width\":2,\"line_dash\":[4,4],\"fill_color\":\"lightgrey\",\"fill_alpha\":0.5,\"level\":\"overlay\",\"visible\":false,\"left\":{\"type\":\"number\",\"value\":\"nan\"},\"right\":{\"type\":\"number\",\"value\":\"nan\"},\"top\":{\"type\":\"number\",\"value\":\"nan\"},\"bottom\":{\"type\":\"number\",\"value\":\"nan\"},\"left_units\":\"canvas\",\"right_units\":\"canvas\",\"top_units\":\"canvas\",\"bottom_units\":\"canvas\",\"handles\":{\"type\":\"object\",\"name\":\"BoxInteractionHandles\",\"id\":\"p1012\",\"attributes\":{\"all\":{\"type\":\"object\",\"name\":\"AreaVisuals\",\"id\":\"p1011\",\"attributes\":{\"fill_color\":\"white\",\"hover_fill_color\":\"lightgray\"}}}}}},\"match_aspect\":true}},{\"type\":\"object\",\"name\":\"HoverTool\",\"id\":\"p1433\",\"attributes\":{\"tags\":[\"hv_created\"],\"renderers\":[{\"id\":\"p1483\"}],\"tooltips\":[[\"Lng\",\"$x{custom}\"],[\"Lat\",\"$y{custom}\"],[\"City\",\"@{City}\"],[\"Humidity\",\"@{Humidity}\"],[\"Country\",\"@{Country}\"],[\"Hotel Name\",\"@{Hotel_Name}\"]],\"formatters\":{\"type\":\"map\",\"entries\":[[\"$x\",{\"type\":\"object\",\"name\":\"CustomJSHover\",\"id\":\"p1488\",\"attributes\":{\"code\":\"\\n        const projections = Bokeh.require(\\\"core/util/projections\\\");\\n        const {snap_x, snap_y} = special_vars\\n        const coords = projections.wgs84_mercator.invert(snap_x, snap_y)\\n        return \\\"\\\" + (coords[0]).toFixed(4)\\n    \"}}],[\"$y\",{\"type\":\"object\",\"name\":\"CustomJSHover\",\"id\":\"p1489\",\"attributes\":{\"code\":\"\\n        const projections = Bokeh.require(\\\"core/util/projections\\\");\\n        const {snap_x, snap_y} = special_vars\\n        const coords = projections.wgs84_mercator.invert(snap_x, snap_y)\\n        return \\\"\\\" + (coords[1]).toFixed(4)\\n    \"}}]]}}},{\"type\":\"object\",\"name\":\"PanTool\",\"id\":\"p1457\"},{\"type\":\"object\",\"name\":\"ResetTool\",\"id\":\"p1458\"}],\"active_drag\":{\"id\":\"p1457\"}}},\"left\":[{\"type\":\"object\",\"name\":\"LinearAxis\",\"id\":\"p1451\",\"attributes\":{\"ticker\":{\"type\":\"object\",\"name\":\"MercatorTicker\",\"id\":\"p1461\",\"attributes\":{\"mantissas\":[1,2,5],\"dimension\":\"lat\"}},\"formatter\":{\"type\":\"object\",\"name\":\"MercatorTickFormatter\",\"id\":\"p1462\",\"attributes\":{\"dimension\":\"lat\"}},\"axis_label\":\"Latitude\",\"major_label_policy\":{\"type\":\"object\",\"name\":\"AllLabels\",\"id\":\"p1454\"}}}],\"right\":[{\"type\":\"object\",\"name\":\"Legend\",\"id\":\"p1486\",\"attributes\":{\"location\":[0,0],\"click_policy\":\"mute\",\"items\":[{\"type\":\"object\",\"name\":\"LegendItem\",\"id\":\"p1487\",\"attributes\":{\"label\":{\"type\":\"field\",\"field\":\"color\"},\"renderers\":[{\"id\":\"p1483\"}]}}]}}],\"below\":[{\"type\":\"object\",\"name\":\"LinearAxis\",\"id\":\"p1446\",\"attributes\":{\"ticker\":{\"type\":\"object\",\"name\":\"MercatorTicker\",\"id\":\"p1459\",\"attributes\":{\"mantissas\":[1,2,5],\"dimension\":\"lon\"}},\"formatter\":{\"type\":\"object\",\"name\":\"MercatorTickFormatter\",\"id\":\"p1460\",\"attributes\":{\"dimension\":\"lon\"}},\"axis_label\":\"Longitude\",\"major_label_policy\":{\"type\":\"object\",\"name\":\"AllLabels\",\"id\":\"p1449\"}}}],\"center\":[{\"type\":\"object\",\"name\":\"Grid\",\"id\":\"p1450\",\"attributes\":{\"axis\":{\"id\":\"p1446\"},\"grid_line_color\":null}},{\"type\":\"object\",\"name\":\"Grid\",\"id\":\"p1455\",\"attributes\":{\"dimension\":1,\"axis\":{\"id\":\"p1451\"},\"grid_line_color\":null}}],\"frame_width\":800,\"frame_height\":500,\"min_border_top\":10,\"min_border_bottom\":10,\"min_border_left\":10,\"min_border_right\":10,\"output_backend\":\"webgl\",\"match_aspect\":true}},{\"type\":\"object\",\"name\":\"Spacer\",\"id\":\"p1491\",\"attributes\":{\"name\":\"HSpacer02116\",\"stylesheets\":[\"\\n:host(.pn-loading):before, .pn-loading:before {\\n  background-color: #c3c3c3;\\n  mask-size: auto calc(min(50%, 400px));\\n  -webkit-mask-size: auto calc(min(50%, 400px));\\n}\",{\"id\":\"p1380\"},{\"id\":\"p1378\"},{\"id\":\"p1379\"}],\"margin\":0,\"sizing_mode\":\"stretch_width\",\"align\":\"start\"}}]}}],\"defs\":[{\"type\":\"model\",\"name\":\"ReactiveHTML1\"},{\"type\":\"model\",\"name\":\"FlexBox1\",\"properties\":[{\"name\":\"align_content\",\"kind\":\"Any\",\"default\":\"flex-start\"},{\"name\":\"align_items\",\"kind\":\"Any\",\"default\":\"flex-start\"},{\"name\":\"flex_direction\",\"kind\":\"Any\",\"default\":\"row\"},{\"name\":\"flex_wrap\",\"kind\":\"Any\",\"default\":\"wrap\"},{\"name\":\"gap\",\"kind\":\"Any\",\"default\":\"\"},{\"name\":\"justify_content\",\"kind\":\"Any\",\"default\":\"flex-start\"}]},{\"type\":\"model\",\"name\":\"FloatPanel1\",\"properties\":[{\"name\":\"config\",\"kind\":\"Any\",\"default\":{\"type\":\"map\"}},{\"name\":\"contained\",\"kind\":\"Any\",\"default\":true},{\"name\":\"position\",\"kind\":\"Any\",\"default\":\"right-top\"},{\"name\":\"offsetx\",\"kind\":\"Any\",\"default\":null},{\"name\":\"offsety\",\"kind\":\"Any\",\"default\":null},{\"name\":\"theme\",\"kind\":\"Any\",\"default\":\"primary\"},{\"name\":\"status\",\"kind\":\"Any\",\"default\":\"normalized\"}]},{\"type\":\"model\",\"name\":\"GridStack1\",\"properties\":[{\"name\":\"mode\",\"kind\":\"Any\",\"default\":\"warn\"},{\"name\":\"ncols\",\"kind\":\"Any\",\"default\":null},{\"name\":\"nrows\",\"kind\":\"Any\",\"default\":null},{\"name\":\"allow_resize\",\"kind\":\"Any\",\"default\":true},{\"name\":\"allow_drag\",\"kind\":\"Any\",\"default\":true},{\"name\":\"state\",\"kind\":\"Any\",\"default\":[]}]},{\"type\":\"model\",\"name\":\"drag1\",\"properties\":[{\"name\":\"slider_width\",\"kind\":\"Any\",\"default\":5},{\"name\":\"slider_color\",\"kind\":\"Any\",\"default\":\"black\"},{\"name\":\"value\",\"kind\":\"Any\",\"default\":50}]},{\"type\":\"model\",\"name\":\"click1\",\"properties\":[{\"name\":\"terminal_output\",\"kind\":\"Any\",\"default\":\"\"},{\"name\":\"debug_name\",\"kind\":\"Any\",\"default\":\"\"},{\"name\":\"clears\",\"kind\":\"Any\",\"default\":0}]},{\"type\":\"model\",\"name\":\"FastWrapper1\",\"properties\":[{\"name\":\"object\",\"kind\":\"Any\",\"default\":null},{\"name\":\"style\",\"kind\":\"Any\",\"default\":null}]},{\"type\":\"model\",\"name\":\"NotificationAreaBase1\",\"properties\":[{\"name\":\"js_events\",\"kind\":\"Any\",\"default\":{\"type\":\"map\"}},{\"name\":\"position\",\"kind\":\"Any\",\"default\":\"bottom-right\"},{\"name\":\"_clear\",\"kind\":\"Any\",\"default\":0}]},{\"type\":\"model\",\"name\":\"NotificationArea1\",\"properties\":[{\"name\":\"js_events\",\"kind\":\"Any\",\"default\":{\"type\":\"map\"}},{\"name\":\"notifications\",\"kind\":\"Any\",\"default\":[]},{\"name\":\"position\",\"kind\":\"Any\",\"default\":\"bottom-right\"},{\"name\":\"_clear\",\"kind\":\"Any\",\"default\":0},{\"name\":\"types\",\"kind\":\"Any\",\"default\":[{\"type\":\"map\",\"entries\":[[\"type\",\"warning\"],[\"background\",\"#ffc107\"],[\"icon\",{\"type\":\"map\",\"entries\":[[\"className\",\"fas fa-exclamation-triangle\"],[\"tagName\",\"i\"],[\"color\",\"white\"]]}]]},{\"type\":\"map\",\"entries\":[[\"type\",\"info\"],[\"background\",\"#007bff\"],[\"icon\",{\"type\":\"map\",\"entries\":[[\"className\",\"fas fa-info-circle\"],[\"tagName\",\"i\"],[\"color\",\"white\"]]}]]}]}]},{\"type\":\"model\",\"name\":\"Notification\",\"properties\":[{\"name\":\"background\",\"kind\":\"Any\",\"default\":null},{\"name\":\"duration\",\"kind\":\"Any\",\"default\":3000},{\"name\":\"icon\",\"kind\":\"Any\",\"default\":null},{\"name\":\"message\",\"kind\":\"Any\",\"default\":\"\"},{\"name\":\"notification_type\",\"kind\":\"Any\",\"default\":null},{\"name\":\"_destroyed\",\"kind\":\"Any\",\"default\":false}]},{\"type\":\"model\",\"name\":\"TemplateActions1\",\"properties\":[{\"name\":\"open_modal\",\"kind\":\"Any\",\"default\":0},{\"name\":\"close_modal\",\"kind\":\"Any\",\"default\":0}]},{\"type\":\"model\",\"name\":\"BootstrapTemplateActions1\",\"properties\":[{\"name\":\"open_modal\",\"kind\":\"Any\",\"default\":0},{\"name\":\"close_modal\",\"kind\":\"Any\",\"default\":0}]},{\"type\":\"model\",\"name\":\"TemplateEditor1\",\"properties\":[{\"name\":\"layout\",\"kind\":\"Any\",\"default\":[]}]},{\"type\":\"model\",\"name\":\"MaterialTemplateActions1\",\"properties\":[{\"name\":\"open_modal\",\"kind\":\"Any\",\"default\":0},{\"name\":\"close_modal\",\"kind\":\"Any\",\"default\":0}]},{\"type\":\"model\",\"name\":\"ReactiveESM1\"},{\"type\":\"model\",\"name\":\"JSComponent1\"},{\"type\":\"model\",\"name\":\"ReactComponent1\"},{\"type\":\"model\",\"name\":\"AnyWidgetComponent1\"},{\"type\":\"model\",\"name\":\"request_value1\",\"properties\":[{\"name\":\"fill\",\"kind\":\"Any\",\"default\":\"none\"},{\"name\":\"_synced\",\"kind\":\"Any\",\"default\":null},{\"name\":\"_request_sync\",\"kind\":\"Any\",\"default\":0}]}]}};\n",
       "  var render_items = [{\"docid\":\"ac05f2f1-61c6-49bc-8ccd-5f07a432ca7a\",\"roots\":{\"p1377\":\"d3a80c34-1721-4893-9533-85918ad44ce6\"},\"root_ids\":[\"p1377\"]}];\n",
       "  var docs = Object.values(docs_json)\n",
       "  if (!docs) {\n",
       "    return\n",
       "  }\n",
       "  const py_version = docs[0].version.replace('rc', '-rc.').replace('.dev', '-dev.')\n",
       "  async function embed_document(root) {\n",
       "    var Bokeh = get_bokeh(root)\n",
       "    await Bokeh.embed.embed_items_notebook(docs_json, render_items);\n",
       "    for (const render_item of render_items) {\n",
       "      for (const root_id of render_item.root_ids) {\n",
       "\tconst id_el = document.getElementById(root_id)\n",
       "\tif (id_el.children.length && id_el.children[0].hasAttribute('data-root-id')) {\n",
       "\t  const root_el = id_el.children[0]\n",
       "\t  root_el.id = root_el.id + '-rendered'\n",
       "\t  for (const child of root_el.children) {\n",
       "            // Ensure JupyterLab does not capture keyboard shortcuts\n",
       "            // see: https://jupyterlab.readthedocs.io/en/4.1.x/extension/notebook.html#keyboard-interaction-model\n",
       "\t    child.setAttribute('data-lm-suppress-shortcuts', 'true')\n",
       "\t  }\n",
       "\t}\n",
       "      }\n",
       "    }\n",
       "  }\n",
       "  function get_bokeh(root) {\n",
       "    if (root.Bokeh === undefined) {\n",
       "      return null\n",
       "    } else if (root.Bokeh.version !== py_version) {\n",
       "      if (root.Bokeh.versions === undefined || !root.Bokeh.versions.has(py_version)) {\n",
       "\treturn null\n",
       "      }\n",
       "      return root.Bokeh.versions.get(py_version);\n",
       "    } else if (root.Bokeh.version === py_version) {\n",
       "      return root.Bokeh\n",
       "    }\n",
       "    return null\n",
       "  }\n",
       "  function is_loaded(root) {\n",
       "    var Bokeh = get_bokeh(root)\n",
       "    return (Bokeh != null && Bokeh.Panel !== undefined)\n",
       "  }\n",
       "  if (is_loaded(root)) {\n",
       "    embed_document(root);\n",
       "  } else {\n",
       "    var attempts = 0;\n",
       "    var timer = setInterval(function(root) {\n",
       "      if (is_loaded(root)) {\n",
       "        clearInterval(timer);\n",
       "        embed_document(root);\n",
       "      } else if (document.readyState == \"complete\") {\n",
       "        attempts++;\n",
       "        if (attempts > 200) {\n",
       "          clearInterval(timer);\n",
       "\t  var Bokeh = get_bokeh(root)\n",
       "\t  if (Bokeh == null || Bokeh.Panel == null) {\n",
       "            console.warn(\"Panel: ERROR: Unable to run Panel code because Bokeh or Panel library is missing\");\n",
       "\t  } else {\n",
       "\t    console.warn(\"Panel: WARNING: Attempting to render but not all required libraries could be resolved.\")\n",
       "\t    embed_document(root)\n",
       "\t  }\n",
       "        }\n",
       "      }\n",
       "    }, 25, root)\n",
       "  }\n",
       "})(window);</script>"
      ],
      "text/plain": [
       ":Overlay\n",
       "   .WMTS.I   :WMTS   [Longitude,Latitude]\n",
       "   .Points.I :Points   [Lng,Lat]   (City,Humidity,Country,Hotel Name)"
      ]
     },
     "execution_count": 10,
     "metadata": {
      "application/vnd.holoviews_exec.v0+json": {
       "id": "p1377"
      }
     },
     "output_type": "execute_result"
    }
   ],
   "source": [
    "%%capture --no-display\n",
    "\n",
    "# Configure the map plot\n",
    "hotel_map = hotel_df.hvplot.points(\n",
    "    \"Lng\",\n",
    "    \"Lat\",\n",
    "    geo=True,\n",
    "    tiles=\"OSM\",\n",
    "    size=\"Humidity\",\n",
    "    color=\"City\",\n",
    "    alpha=0.7,\n",
    "    hover_cols=[\"City\", \"Country\", \"Hotel Name\", \"Humidity\"],\n",
    "    frame_width=800,\n",
    "    frame_height=500\n",
    ")\n",
    "\n",
    "# Display the map\n",
    "hotel_map"
   ]
  },
  {
   "cell_type": "code",
   "execution_count": null,
   "metadata": {},
   "outputs": [],
   "source": []
  }
 ],
 "metadata": {
  "kernelspec": {
   "display_name": "dev",
   "language": "python",
   "name": "python3"
  },
  "language_info": {
   "codemirror_mode": {
    "name": "ipython",
    "version": 3
   },
   "file_extension": ".py",
   "mimetype": "text/x-python",
   "name": "python",
   "nbconvert_exporter": "python",
   "pygments_lexer": "ipython3",
   "version": "3.10.15"
  },
  "latex_envs": {
   "LaTeX_envs_menu_present": true,
   "autoclose": false,
   "autocomplete": true,
   "bibliofile": "biblio.bib",
   "cite_by": "apalike",
   "current_citInitial": 1,
   "eqLabelWithNumbers": true,
   "eqNumInitial": 1,
   "hotkeys": {
    "equation": "Ctrl-E",
    "itemize": "Ctrl-I"
   },
   "labels_anchors": false,
   "latex_user_defs": false,
   "report_style_numbering": false,
   "user_envs_cfg": false
  }
 },
 "nbformat": 4,
 "nbformat_minor": 4
}
